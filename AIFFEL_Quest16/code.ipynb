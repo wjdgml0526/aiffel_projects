{
 "cells": [
  {
   "cell_type": "markdown",
   "id": "8ccabf67",
   "metadata": {},
   "source": [
    "# 27-1. 프로젝트: KoChatGPT 업그레이드 하기\n",
    "## 루브릭\n",
    "1. 기존 KoGPT2와 SFT 적용 모델 결과 분석했는가?  \n",
    "   기존 모델의 결과물과 SFT를 적용한 모델의 결과물을 정량/정성적으로 비교/분석했다.\n",
    "2. SFT 모델과 RM 모델 결과 분석을 해보았는가?  \n",
    "   SFT를 적용한 모델의 결과물과 RM을 적용한 모델의 결과물을 정량/정성적으로 비교/분석했다.\n",
    "3. 데이터셋 정제 / 새로운 데이터셋 / foundation model 교체 중 하나를 이용해 정량적 성능 향상을 해보았는가?  \n",
    "   - 기존 데이터셋을 추가로 정제하고, generation 성능을 올리기 위한 기법(Beam search, Top-k sampling 등)을 실험해 모델 성능을 향상시켰다.\n",
    "   - 새로운 데이터를 수집해 전처리를 수행하여 모델의 성능을 향상시켰다.\n",
    "   - 더 적절한 학습 전략(SFT, RM, PPO)을 적용하거나 initial model을 변경해 모델의 성능을 향상시켰다.\n",
    "---\n",
    "\n",
    "KoChatGPT 소스코드를 바탕으로 다양한 모델 개선 전략을 선택해 KoChatGPT를 업그레이드해 보겠습니다.\n",
    "\n",
    "아래 제시된 전략 중 하나를 선택하거나 여러 개를 조합하여\n",
    "여러분만의 custom ChatGPT를 개발해보세요. 물론 더 창의적인 좋은 아이디어를 도입해볼 수도 있겠죠?\n",
    "\n",
    "복수의 전략을 선택했을 때 혼자서 실험해볼 시간이 부족하다면\n",
    "팀을 이뤄 분업을 해보셔도 좋습니다!\n",
    "1. 우리가 지난시간 살펴본 KoChatGPT 모델에 사용한 데이터셋은 아직 완벽히 정제되지 않았습니다.\n",
    "2. Human Feedback이 반영된 데이터셋을 대체하기 위해 SFT와 RM 모델에 사용할 다양한 benchmark 데이터셋도 검토해볼 수 있습니다.\n",
    "3. 언어모델의 생성능력을 좌우하는 최선의 디코딩을 위한 하이퍼파라미터 서치가 필요합니다.\n",
    "4. 생성된 답변에 대한 주관적인 평가를 보완할 수 있는 정량적인 메트릭은 도입하지 않았었습니다.\n",
    "5. LLM Trend Note1에서 살펴본 다양한 Instruction Tuning 및 Prompting 기법들도 적용해볼만 합니다.\n",
    "6. 무엇보다 foundation model로 사용한 KoGPT-2는 Emergent abilities를 기대하기엔 다소 작은 사이즈의 모델입니다.  \n",
    "   더 큰 파라미터 스케일을 가진 모델을 사용해보거나,\n",
    "7. 더 효율적인 연산을 수행할 수 있는 LoRA의 적용 또는 새로운 Instruction Tuning 및 reward ranking 알고리즘을 도입해볼 수도 있습니다.\n",
    "\n",
    "어떤 걸 해야할 지 감이 잡히지 않는 분들을 위해 몇 가지 예시를 소개해드리도록 하겠습니다.\n",
    "\n",
    "## 기존 데이터셋 추가 정제\n",
    "data_kochatgpt 폴더에는 세 파일이 있습니다.\n",
    "1. kochatgpt_1_SFT.jsonl : SFT를 위한 prompt와 completion 문장셋\n",
    "2. kochatgpt_1_RM.jsonl : RM 학습을 위한 prompt와 세 가지 ranking 문장셋\n",
    "3. kochatgpt_1_PPO.jsonl : promt 문장\n",
    "\n",
    "각 말뭉치를 EDA하여 도메인과 문체, 길이분포, 문장의 완성도 등을 분석합니다.\n",
    "언어모델의 문장생성능력은 말뭉치의 전처리 수준에 큰 영향을 받습니다.\n",
    "말뭉치의 분석결과를 토대로 데이터를 정제하여 모델을 재학습시켜봅니다.\n",
    "(정제후 데이터셋 크기가 줄어들지 않도록, 다양한 augmentation 기법을 활용하여 크기를 유지 내지 증량합니다.)\n",
    "추가 전처리 후, 기존 인퍼런스 결과와 성능을 비교해봅니다.\n",
    "(주관적인 평가와 BLEU, ROUGE 등을 활용한 정량적인 평가 결과를 비교 분석하여 제시합니다.)\n",
    "\n",
    "## 새로운 데이터셋 추가\n",
    "KoChatGPT는 human feedback이 반영된 데이터를 직접 사용하는 대신\n",
    "ChatGPT API를 사용하는 대안을 선택했습니다.\n",
    "LLM Trend Note1 에서 살펴보았듯이\n",
    "Anthropic의 RLHF는 StackExchange 같은 온라인 상의 댓글정보를 활용하여\n",
    "ranking dataset을 구축해 구현되었습니다.\n",
    "우리도 비슷한 로직을 적용해볼 수 있습니다.\n",
    "\n",
    "하나의 prompt에 대한 다양한 수준의 품질로 댓글이 달린 한국어로 된 웹사이트를 찾아봅시다.\n",
    "웹크롤링 기법을 사용해 reward 점수를 차등적으로 적용해볼 수 있는\n",
    "instruction dataset과 ranking dataset을 구축해봅니다.\n",
    "\n",
    "[KorQuAD 2.0](https://korquad.github.io/) 같은 한국어 이해 benchmark를 활용해 고품질의 데이터셋을 확보하고,\n",
    "KoGPT-2를 사용해 빠르게 저품질 데이터셋을 페어링해볼 수도 있습니다.\n",
    "다양한 데이터 증량전략을 구사하여 기존 데이터셋에 새로 구축한 데이터셋을 추가해\n",
    "모델을 재학습시키고 추론 결과를 비교해 분석하여 제시해보세요.\n",
    "\n",
    "## foundation model 교체\n",
    "현재 제공되는 LMS GPU 사양으로는 수십 billion 단위 이상의 LLM을 튜닝하기 어렵습니다.\n",
    "그러나 허깅페이스에서 제공하는 큰 규모의 모델을 적은 컴퓨팅 자원으로도 사용할 수 있게 해주는\n",
    "경량화, 최적화 라이브러리를 사용하면\n",
    "속도는 느리지만 우리의 LMS에서도 학습 및 추론이 가능해질 수 있습니다.\n",
    "(힌트 : LLM Trend Note1 노드의 마지막 스텝을 참고해보세요)\n",
    "\n",
    "허깅페이스에서 제공되는 1.2B 사이즈의 한국어 GPT pretrain model로 [skt/ko-gpt-trinity-1.2B-v0.5](https://huggingface.co/skt/ko-gpt-trinity-1.2B-v0.5) 가 있습니다.\n",
    "해당 모델로 foundation model을 교체해보세요.\n",
    "(단 OOM 문제를 해소하기 위해 허깅페이스에서 제공하는\n",
    "다양한 training argument들을 조합하여 최상의 하이퍼파라미터를 찾아내야 합니다.)\n",
    "데이터셋을 아예 바꿔 모델 선택의 폭을 늘려보는 것도 좋은 선택지입니다.\n",
    "\n",
    "foundation model 교체에 성공했다면, generator 함수를 수정하여 모델 인퍼런스 결과를 제시해보세요.\n",
    "\n",
    "## 참고\n",
    "LLM Trend Note2 노드에서 살펴본 KoChatGPT 소스코드는\n",
    "빠르게 baseline모델을 설계해 실습해보기 위해 오리지널 코드를 일부 수정한 버전입니다.\n",
    "프로젝트 진행을 위해 모델을 커스터마이징할 때, 필요시 \"colossalai_ChatGPT_230319\" 폴더 내의 원본 스크립트들을 참고하세요."
   ]
  },
  {
   "cell_type": "markdown",
   "id": "96bb5ac0",
   "metadata": {},
   "source": [
    "## 라이브러리 버전 확인\n",
    "Torch version:1.12.1  \n",
    "Cuda version: 11.3  \n",
    "transformers version: 4.28.0  \n",
    "GPU 사용 가능여부: True"
   ]
  },
  {
   "cell_type": "code",
   "execution_count": 1,
   "id": "80c1a8ff",
   "metadata": {},
   "outputs": [
    {
     "name": "stderr",
     "output_type": "stream",
     "text": [
      "Special tokens have been added in the vocabulary, make sure the associated word embeddings are fine-tuned or trained.\n"
     ]
    }
   ],
   "source": [
    "import torch\n",
    "from transformers import AutoTokenizer, AutoModelForCausalLM\n",
    "import pandas as pd\n",
    "import numpy\n",
    "\n",
    "device = \"cuda\" if torch.cuda.is_available() else \"cpu\"\n",
    "model_name = \"skt/kogpt2-base-v2\"\n",
    "tokenizer = AutoTokenizer.from_pretrained(model_name)\n",
    "model = AutoModelForCausalLM.from_pretrained(model_name).to(device)"
   ]
  },
  {
   "cell_type": "markdown",
   "id": "0c3e0873",
   "metadata": {},
   "source": [
    "## skt/kogpt2-base-v2 성능확인"
   ]
  },
  {
   "cell_type": "code",
   "execution_count": 2,
   "id": "a94d0a19",
   "metadata": {},
   "outputs": [
    {
     "data": {
      "text/html": [
       "<div>\n",
       "<style scoped>\n",
       "    .dataframe tbody tr th:only-of-type {\n",
       "        vertical-align: middle;\n",
       "    }\n",
       "\n",
       "    .dataframe tbody tr th {\n",
       "        vertical-align: top;\n",
       "    }\n",
       "\n",
       "    .dataframe thead th {\n",
       "        text-align: right;\n",
       "    }\n",
       "</style>\n",
       "<table border=\"1\" class=\"dataframe\">\n",
       "  <thead>\n",
       "    <tr style=\"text-align: right;\">\n",
       "      <th></th>\n",
       "      <th>0</th>\n",
       "      <th>1</th>\n",
       "      <th>2</th>\n",
       "      <th>3</th>\n",
       "      <th>4</th>\n",
       "      <th>5</th>\n",
       "      <th>6</th>\n",
       "      <th>7</th>\n",
       "      <th>8</th>\n",
       "      <th>9</th>\n",
       "      <th>10</th>\n",
       "      <th>11</th>\n",
       "      <th>12</th>\n",
       "      <th>13</th>\n",
       "      <th>14</th>\n",
       "      <th>15</th>\n",
       "      <th>16</th>\n",
       "      <th>17</th>\n",
       "      <th>18</th>\n",
       "      <th>19</th>\n",
       "      <th>20</th>\n",
       "      <th>21</th>\n",
       "      <th>22</th>\n",
       "    </tr>\n",
       "  </thead>\n",
       "  <tbody>\n",
       "    <tr>\n",
       "      <th>kogpt-2_tokens</th>\n",
       "      <td>▁바람</td>\n",
       "      <td>도</td>\n",
       "      <td>▁없는</td>\n",
       "      <td>▁공중에</td>\n",
       "      <td>▁수직</td>\n",
       "      <td>의</td>\n",
       "      <td>▁파</td>\n",
       "      <td>문을</td>\n",
       "      <td>▁내</td>\n",
       "      <td>이며</td>\n",
       "      <td>▁고</td>\n",
       "      <td>요</td>\n",
       "      <td>히</td>\n",
       "      <td>▁떨어지는</td>\n",
       "      <td>▁오동</td>\n",
       "      <td>잎은</td>\n",
       "      <td>▁누</td>\n",
       "      <td>구의</td>\n",
       "      <td>▁발자</td>\n",
       "      <td>취</td>\n",
       "      <td>▁입</td>\n",
       "      <td>니까</td>\n",
       "      <td>.</td>\n",
       "    </tr>\n",
       "    <tr>\n",
       "      <th>Input_IDs</th>\n",
       "      <td>10891</td>\n",
       "      <td>7235</td>\n",
       "      <td>9712</td>\n",
       "      <td>49207</td>\n",
       "      <td>14438</td>\n",
       "      <td>8143</td>\n",
       "      <td>9203</td>\n",
       "      <td>9941</td>\n",
       "      <td>9094</td>\n",
       "      <td>9639</td>\n",
       "      <td>9065</td>\n",
       "      <td>8084</td>\n",
       "      <td>8811</td>\n",
       "      <td>21215</td>\n",
       "      <td>34769</td>\n",
       "      <td>19985</td>\n",
       "      <td>9669</td>\n",
       "      <td>10139</td>\n",
       "      <td>21626</td>\n",
       "      <td>8408</td>\n",
       "      <td>9241</td>\n",
       "      <td>23775</td>\n",
       "      <td>389</td>\n",
       "    </tr>\n",
       "  </tbody>\n",
       "</table>\n",
       "</div>"
      ],
      "text/plain": [
       "                   0     1     2      3      4     5     6     7     8     9   \\\n",
       "kogpt-2_tokens    ▁바람     도   ▁없는   ▁공중에    ▁수직     의    ▁파    문을    ▁내    이며   \n",
       "Input_IDs       10891  7235  9712  49207  14438  8143  9203  9941  9094  9639   \n",
       "\n",
       "                  10    11    12     13     14     15    16     17     18  \\\n",
       "kogpt-2_tokens    ▁고     요     히  ▁떨어지는    ▁오동     잎은    ▁누     구의    ▁발자   \n",
       "Input_IDs       9065  8084  8811  21215  34769  19985  9669  10139  21626   \n",
       "\n",
       "                  19    20     21   22  \n",
       "kogpt-2_tokens     취    ▁입     니까    .  \n",
       "Input_IDs       8408  9241  23775  389  "
      ]
     },
     "execution_count": 2,
     "metadata": {},
     "output_type": "execute_result"
    }
   ],
   "source": [
    "input_txt = \"바람도 없는 공중에 수직의 파문을 내이며 고요히 떨어지는 오동잎은 누구의 발자취 입니까.\"\n",
    "\n",
    "tokens = tokenizer(input_txt).tokens()\n",
    "input_ids = tokenizer(input_txt, return_tensors=\"pt\")[\"input_ids\"].numpy()\n",
    "\n",
    "pd.options.display.max_columns = 40\n",
    "pd.options.display.max_rows = 60\n",
    "df = pd.DataFrame([tokens, input_ids[0]], index=[\"kogpt-2_tokens\", \"Input_IDs\"])\n",
    "df"
   ]
  },
  {
   "cell_type": "code",
   "execution_count": 3,
   "id": "c25c997b",
   "metadata": {
    "scrolled": true
   },
   "outputs": [
    {
     "name": "stdout",
     "output_type": "stream",
     "text": [
      "바람도 없는 공중에 수직의 파문을 내이며 고요히 떨어지는 오동잎은 누구의 발자취 입니까.'\n",
      "\"그렇다면 그건 무슨 소리요?\"\n",
      "\"그건 무슨 소리요?\"\n",
      "\"그건 무슨 소리요?\n"
     ]
    }
   ],
   "source": [
    "# 디코딩 성능 확인\n",
    "max_length=50\n",
    "input_ids = tokenizer(input_txt, return_tensors=\"pt\")[\"input_ids\"].to(device)\n",
    "output_greedy = model.generate(input_ids, max_length=max_length, do_sample=False)\n",
    "print(tokenizer.decode(output_greedy[0]))"
   ]
  },
  {
   "cell_type": "code",
   "execution_count": 4,
   "id": "bdd214e2",
   "metadata": {
    "scrolled": true
   },
   "outputs": [
    {
     "name": "stdout",
     "output_type": "stream",
     "text": [
      "바람도 없는 공중에 수직의 파문을 내이며 고요히 떨어지는 오동잎은 누구의 발자취 입니까.'\n",
      "\"그렇지 않습니다.\"\n",
      "\"어떻게 된 일입니까?\"\n",
      "그녀는 고개를 갸웃거렸다.\n",
      "\"아\n"
     ]
    }
   ],
   "source": [
    "# 빔 서치 디코딩 + n-gram 패널티\n",
    "input_ids = tokenizer(input_txt, return_tensors=\"pt\")[\"input_ids\"].to(device)\n",
    "output_beam = model.generate(input_ids, max_length=max_length, num_beams=10, no_repeat_ngram_size=2,\n",
    "                             do_sample=False)\n",
    "print(tokenizer.decode(output_beam[0]))"
   ]
  },
  {
   "cell_type": "code",
   "execution_count": 5,
   "id": "c65c799d",
   "metadata": {},
   "outputs": [
    {
     "name": "stdout",
     "output_type": "stream",
     "text": [
      "바람도 없는 공중에 수직의 파문을 내이며 고요히 떨어지는 오동잎은 누구의 발자취 입니까.'\n",
      "그녀는 울음을 그치질 못했다.\n",
      "그녀의 두 눈에는 눈물이 고이 젖어 있었다.\n",
      "\"오랜만에 이렇게 뵙\n"
     ]
    }
   ],
   "source": [
    "# 샘플링\n",
    "output_beam = model.generate(input_ids, max_length=max_length, num_beams=7, no_repeat_ngram_size=2,\n",
    "                             do_sample=True, temperature=2.0, top_k=50)\n",
    "print(tokenizer.decode(output_beam[0]))"
   ]
  },
  {
   "cell_type": "code",
   "execution_count": 6,
   "id": "4d19d861",
   "metadata": {},
   "outputs": [
    {
     "name": "stdout",
     "output_type": "stream",
     "text": [
      "바람도 없는 공중에 수직의 파문을 내이며 고요히 떨어지는 오동잎은 누구의 발자취 입니까.'\n",
      "\"그런데 그게 무슨 소리입니까?\"\n",
      "\"아니요, 그건 아니에요.\"\n",
      "그녀의 대답에\n"
     ]
    }
   ],
   "source": [
    "# top_p 샘플링\n",
    "output_beam = model.generate(input_ids, max_length=max_length, num_beams=7, no_repeat_ngram_size=2,\n",
    "                             do_sample=True, top_p=0.90)\n",
    "print(tokenizer.decode(output_beam[0]))"
   ]
  },
  {
   "cell_type": "markdown",
   "id": "b9efa082",
   "metadata": {},
   "source": [
    "- Greedy Search: 매 스텝에서 가장 높은 확률의 토큰을 선택. 텍스트 생성이 이루어지지 않고 공백이 반복됨. \n",
    "- Beam Search and n-gram penalty: 여러 개의 시퀀스를 동시에 탐색하여 최종적으로 가장 가능성이 높은 시퀀스 선택. num_beam은 빔의 개수 결정. 2-gram 반복을 피함. 모델의 특별 토큰으로 끝남. 완전하지 않은 결과 생성. 반복은 피했지만 모델의 제약이 보임.\n",
    "- Sampling with temperature and top-k: 확률 분포를 샘플링. 상위 50개의 토큰 중에서 선택. 창의적이고 다양한 출력을 생성.\n",
    "- Top-p Sampling: 누적 확률이 90%를 차지하는 토큰들 중에서 샘플링. 자연스러운 출력을 기대했지만 \\</d> 토큰이 추가됨. 어색한 결과  \n",
    "\n",
    "샘플링되는 결과들은 달라질 수 있음."
   ]
  },
  {
   "cell_type": "code",
   "execution_count": 7,
   "id": "9a1c0d35",
   "metadata": {},
   "outputs": [
    {
     "name": "stdout",
     "output_type": "stream",
     "text": [
      "불고기용 고기 한우에요?\n",
      "불고기용 고기 한우에요?\"\n",
      "\"어느 나라 음식인지는 몰라도, 왠지 햄버거 맛에 젖어 있구나, 그나저나 요거트 맛을 보고싶었는데.\"\n",
      "\"그럴 리가 없겠\n",
      "\n",
      "리처드 닉슨이 43대 부통령직을 수행한 년도는?\n",
      "리처드 닉슨이 43대 부통령직을 수행한 년도는?\n",
      "닉슨은 선거운동 기간 동안 대선후보로 나서지 않았다.\n",
      "그 후로 닉슨의 정치 활동은 중단된 상태다.\n",
      "닉슨과 그의 친구들은 선거자금 모금에만 열중해 있었다.\n",
      "닉\n",
      "\n",
      "시카고 오헤어 국제공항은 어디에 있어?\n",
      "시카고 오헤어 국제공항은 어디에 있어? 라고 질문한 적이 있었습니다.\n",
      "그래서 저는 이렇게 묻고 있습니다.\n",
      "그런데 정말 궁금한 게 한 두 명 뿐이 아니라는 겁니다.\n",
      "오헤어로 가는 모든 항공편은 출발 전 공항 체크인부터\n",
      "\n",
      "오늘 미세먼지 어때?\n",
      "오늘 미세먼지 어때? 네. 맞습니다.\n",
      "어떻게 된 건가요? 하는 생각이 듭니다. 고거 이거 어떻게 된 겁니까?\n",
      "이거 무슨 말씀이시지요?\n",
      "네. 예. 저는 봤습니다.\n",
      "네.\n",
      "\n"
     ]
    }
   ],
   "source": [
    "list_prompt = ['불고기용 고기 한우에요?',\n",
    "               '리처드 닉슨이 43대 부통령직을 수행한 년도는?',\n",
    "               '시카고 오헤어 국제공항은 어디에 있어?',\n",
    "               '오늘 미세먼지 어때?']\n",
    "\n",
    "for prompt in list_prompt:\n",
    "    max_length=50\n",
    "    input_ids = tokenizer(prompt, return_tensors=\"pt\")[\"input_ids\"].to(device)\n",
    "    \n",
    "    # 샘플링\n",
    "    output_beam = model.generate(input_ids, max_length=max_length, num_beams=7, no_repeat_ngram_size=2,\n",
    "                                 do_sample=True, temperature=2.0, top_k=50)\n",
    "    print(prompt)\n",
    "    print(tokenizer.decode(output_beam[0]))\n",
    "    print()"
   ]
  },
  {
   "cell_type": "markdown",
   "id": "5bf897aa",
   "metadata": {},
   "source": [
    "## 데이터셋 확인"
   ]
  },
  {
   "cell_type": "code",
   "execution_count": 8,
   "id": "5f1e3207",
   "metadata": {},
   "outputs": [
    {
     "name": "stdout",
     "output_type": "stream",
     "text": [
      "12000\n"
     ]
    },
    {
     "data": {
      "text/plain": [
       "[{'prompt': '불고기용 고기 한우에요?',\n",
       "  'completion': \"'저는 인공지능 챗봇이며, 직접적으로 식품에 관한 정보를 가지고 있지 않습니다. 하지만 일반적으로 불고기용 고기는 한우, 쇠고기, 돼지고기 등 다양한 종류의 고기를 사용합니다. 하지만 한우는 대표적인 고급 육류로 알려져 있기 때문에, 한우를 사용하는 경우도 많습니다. 알러지나 개별 건강 상태에 따라 다를 수 있으니 충분한 정보 수집 후에 선택해 주시기 바랍니다.\",\n",
       "  'tokens': 193},\n",
       " {'prompt': '쓰던 앱이 유료로 전환됐어',\n",
       "  'completion': \"'어떤 앱인지 모르기 때문에 정확한 답변을 드리기 어렵습니다. 하지만, 일반적으로 유료 전환된 앱은 기존 무료 앱에서 추가적인 기능이나 서비스를 제공하는 경우가 많습니다. 이 경우, 유료 전환 이전 가격이 매우 저렴하거나 무료인 경우가 많으므로, 앱을 계속 사용하려면 추가적인 비용을 지불해야 할 수 있습니다. 하지만, 유료 전환 이후에는 기존 사용자 또는 새로운 사용자 모두가 추가 기능과 높은 품질의 서비스를 이용할 수 있게 됩니다. 따라서, 앱 개발자는 유료 모델로 전환함으로써 앱의 수익을 증가시키고 더 나은 서비스를 제공할 수 있습니다.\",\n",
       "  'tokens': 288},\n",
       " {'prompt': '여친이랑 다툼',\n",
       "  'completion': \"'저는 인공지능이기 때문에 여친과의 다툼에 대해서는 조언을 드릴 수는 없습니다. 하지만 다투게 되면 상대방의 말을 경청하는 태도와 서로의 감정을 존중하는 것이 중요합니다. 논리적이고 차분한 대화를 통해 문제를 해결해보세요. 그리고 서로를 이해하고 서로의 의견을 수용하는 것이 중요합니다.\",\n",
       "  'tokens': 153}]"
      ]
     },
     "execution_count": 8,
     "metadata": {},
     "output_type": "execute_result"
    }
   ],
   "source": [
    "import json\n",
    "import os\n",
    "data_path_1_SFT = '~/aiffel/KoChatGPT/data_kochatgpt/kochatgpt_1_SFT.jsonl' \n",
    "data_path_1_SFT = os.path.expanduser(data_path_1_SFT)\n",
    "with open(data_path_1_SFT, \"r\", encoding='utf-8-sig') as json_file:\n",
    "    list_data_dict = json.load(json_file)\n",
    "\n",
    "print(len(list_data_dict))\n",
    "list_data_dict[:3]"
   ]
  },
  {
   "cell_type": "code",
   "execution_count": 9,
   "id": "cb8159cb",
   "metadata": {},
   "outputs": [
    {
     "name": "stdout",
     "output_type": "stream",
     "text": [
      "10220\n"
     ]
    },
    {
     "data": {
      "text/plain": [
       "[{'prompt': '번디는 자신이 탐정잡지, 범죄소설 그리고 성범죄 관련 실제 범죄 다큐멘터리들을 탐독했다고 누구에게 말했나?',\n",
       "  'completion_0': 'Allow me to answer your question. I know that you are curious about me.',\n",
       "  'completion_1': '번디는 다양한 인터뷰자들과 뉴스홍보 담당자들과의 면담 때 밝혔다.',\n",
       "  'completion_2': '라이언에게 말했다.',\n",
       "  'ranking': [2, 1, 0]},\n",
       " {'prompt': '개포주공아파트는 몇 단지로 이루어져 있나?',\n",
       "  'completion_0': '개포주공아파트는 다섯 단지로 이루어져 있습니다.',\n",
       "  'completion_1': '이날 목송에서 구글상위노',\n",
       "  'completion_2': '개포주공아파트는 총 27개 단지로 이루어져 있습니다.',\n",
       "  'ranking': [2, 0, 1]},\n",
       " {'prompt': '김영삼의 후보 시절 지역표심을 겨냥한 발언을 문제삼은 후보는?',\n",
       "  'completion_0': 'The diameter of the Metallic domain is bigger than the Hyperonic domain.',\n",
       "  'completion_1': '이 질문은 조금 불분명합니다. 김영삼 대통령이 후보 시절에 어떤 발언을 했고, 누가 그 발언을 문제삼았는지에 따라 답이 다를 수 있습니다.\\\\n\\\\n만약 김영삼 대통령이 후보 시절에 지역표심을 겨냥한 발언을 했다는 가정하에, 그 발언을 문제삼은 후보가 누구였는지를 대답하자면, 그 답은 이화선 당시 민주당 대통령 후보가 될 것입니다. 1992년 총선 때, 김영삼 대선후보는 \"집값이 오른 노량진역 부근의 부동산 가격은 세월호 폭침 후 \\\\\\'강남 도시재생\\\\\\' 일환으로 상승했다\"는 발언을 했습니다. 하지만 이화선 후보는 이 발언을 \"전국적으로 경제적 발전이 이루어지지 않은 지방민의 마음을 멀리해지려는 무례한 발언\"이라고 비판하며 문제삼았습니다.\\\\n\\\\n하지만, 이 질문을 답변하는 데 있어서 보다 명확한 정보가 있으면 답변을 보완할 수 있습니다.',\n",
       "  'completion_2': '김영삼의 후보 시절에 지역표심을 겨냥한 발언은 대통령 당선 전까지 대한민국 정부가 추구하고 있는 민주주의 광범위하게 확립과 보수의 사상을 이어가는 데 있어 지역경제 발전과 공공서비스 신속 개선을 위해 합리적인 국가 정책에 따르는 방향성을 제시하고 있습니다.',\n",
       "  'ranking': [1, 2, 0]}]"
      ]
     },
     "execution_count": 9,
     "metadata": {},
     "output_type": "execute_result"
    }
   ],
   "source": [
    "# RM 데이터셋\n",
    "data_path_2_RM = '~/aiffel/KoChatGPT/data_kochatgpt/kochatgpt_2_RM.jsonl'\n",
    "data_path_2_RM = os.path.expanduser(data_path_2_RM)\n",
    "with open(data_path_2_RM, \"r\", encoding='utf-8-sig') as json_file:\n",
    "    list_data_dict = json.load(json_file)\n",
    "\n",
    "print(len(list_data_dict))\n",
    "list_data_dict[:3]"
   ]
  },
  {
   "cell_type": "code",
   "execution_count": 10,
   "id": "283ff7a2",
   "metadata": {},
   "outputs": [
    {
     "name": "stdout",
     "output_type": "stream",
     "text": [
      "12000\n"
     ]
    },
    {
     "data": {
      "text/plain": [
       "[{'prompt': '번디는 자신이 탐정잡지, 범죄소설 그리고 성범죄 관련 실제 범죄 다큐멘터리들을 탐독했다고 누구에게 말했나?'},\n",
       " {'prompt': '개포주공아파트는 몇 단지로 이루어져 있나?'},\n",
       " {'prompt': '김영삼의 후보 시절 지역표심을 겨냥한 발언을 문제삼은 후보는?'}]"
      ]
     },
     "execution_count": 10,
     "metadata": {},
     "output_type": "execute_result"
    }
   ],
   "source": [
    "# PPO 데이터셋\n",
    "data_path_3_PPO = '~/aiffel/KoChatGPT/data_kochatgpt/kochatgpt_3_PPO.jsonl'\n",
    "data_path_3_PPO = os.path.expanduser(data_path_3_PPO)\n",
    "with open(data_path_3_PPO, \"r\", encoding='utf-8-sig') as json_file:\n",
    "    list_data_dict = json.load(json_file)\n",
    "\n",
    "print(len(list_data_dict))\n",
    "list_data_dict[:3]"
   ]
  },
  {
   "cell_type": "markdown",
   "id": "9ab1f43a",
   "metadata": {},
   "source": [
    "## Supervised Fine-Tuning"
   ]
  },
  {
   "cell_type": "code",
   "execution_count": 11,
   "id": "597e4b48",
   "metadata": {},
   "outputs": [
    {
     "name": "stdout",
     "output_type": "stream",
     "text": [
      "huggingface/tokenizers: The current process just got forked, after parallelism has already been used. Disabling parallelism to avoid deadlocks...\n",
      "To disable this warning, you can either:\n",
      "\t- Avoid using `tokenizers` before the fork if possible\n",
      "\t- Explicitly set the environment variable TOKENIZERS_PARALLELISM=(true | false)\n"
     ]
    }
   ],
   "source": [
    "import os\n",
    "os.environ[\"CUDA_VISIBLE_DEVICES\"] = \"0\"\n",
    "import torch\n",
    "import torch.nn as nn\n",
    "from torch.utils.data import Dataset\n",
    "from torch.optim import Adam\n",
    "from datasets import load_dataset\n",
    "import transformers\n",
    "from transformers import AutoTokenizer, AutoModelForCausalLM, pipeline\n",
    "from transformers import Trainer, TrainingArguments\n",
    "from copy import deepcopy\n",
    "import copy\n",
    "import logging\n",
    "import json\n",
    "from dataclasses import dataclass"
   ]
  },
  {
   "cell_type": "code",
   "execution_count": 12,
   "id": "40043b11",
   "metadata": {},
   "outputs": [
    {
     "name": "stdout",
     "output_type": "stream",
     "text": [
      "GPT2TokenizerFast(name_or_path='skt/kogpt2-base-v2', vocab_size=51200, model_max_length=512, is_fast=True, padding_side='right', truncation_side='right', special_tokens={'bos_token': '</s>', 'eos_token': '</s>', 'unk_token': '</s>', 'pad_token': '</s>'}, clean_up_tokenization_spaces=True)\n"
     ]
    }
   ],
   "source": [
    "model = AutoModelForCausalLM.from_pretrained(\"skt/kogpt2-base-v2\")\n",
    "tokenizer = AutoTokenizer.from_pretrained(\n",
    "    \"skt/kogpt2-base-v2\", bos_token='</s>', eos_token='</s>', unk_token='</s>', pad_token='</s>',\n",
    "    padding_side=\"right\",\n",
    "    model_max_length=512,\n",
    ")\n",
    "\n",
    "print(tokenizer)"
   ]
  },
  {
   "cell_type": "code",
   "execution_count": 13,
   "id": "a16d1881",
   "metadata": {},
   "outputs": [],
   "source": [
    "# SFT 데이터셋 클래스\n",
    "from typing import Optional, Dict, Sequence\n",
    "\n",
    "class SFT_dataset(Dataset):\n",
    "\n",
    "    def __init__(self, data_path_1_SFT: str, tokenizer: transformers.PreTrainedTokenizer, verbose=False):\n",
    "        super(SFT_dataset, self).__init__()\n",
    "        logging.warning(\"Loading data...\")\n",
    "\n",
    "        pattern_instruction = 'prompt'  # instruction\n",
    "        pattern_output = 'completion'  # response\n",
    "\n",
    "        with open(data_path_1_SFT, \"r\", encoding='utf-8-sig') as json_file:\n",
    "            list_data_dict = json.load(json_file)\n",
    "\n",
    "        PROMPT_DICT = {\n",
    "            \"prompt_input\": (\n",
    "                \"### Instruction(명령어):\\n{prompt}\\n\\n### Response(응답):\"\n",
    "            )\n",
    "        }\n",
    "\n",
    "        prompt_input = PROMPT_DICT[\"prompt_input\"]\n",
    "\n",
    "        sources = []\n",
    "        for example in list_data_dict:\n",
    "            tmp = prompt_input.format_map(example)\n",
    "            sources.append(tmp)\n",
    "\n",
    "        targets = []\n",
    "        for example in list_data_dict:\n",
    "            targets.append(f\"{example[pattern_output]}{tokenizer.eos_token}\")\n",
    "        examples = [s + t for s, t in zip(sources, targets)]\n",
    "\n",
    "        sources_tokenized = self._tokenize_fn(sources, tokenizer)  # source\n",
    "        examples_tokenized = self._tokenize_fn(examples, tokenizer)  # source + target\n",
    "\n",
    "        input_ids = examples_tokenized[\"input_ids\"]\n",
    "        labels = copy.deepcopy(input_ids)\n",
    "        for label, source_len in zip(labels, sources_tokenized[\"input_ids_lens\"]):\n",
    "            label[:source_len] = -100\n",
    "\n",
    "        data_dict = dict(input_ids=input_ids, labels=labels)\n",
    "\n",
    "        self.input_ids = data_dict[\"input_ids\"]\n",
    "        self.labels = data_dict[\"labels\"]\n",
    "        logging.warning(\"Loading data done!!: %d\"%(len(self.labels)))\n",
    "\n",
    "\n",
    "    def _tokenize_fn(self, strings: Sequence[str], tokenizer: transformers.PreTrainedTokenizer) -> Dict:\n",
    "        tokenized_list = [\n",
    "            tokenizer(\n",
    "                text,\n",
    "                return_tensors=\"pt\",\n",
    "                padding=\"longest\",\n",
    "                max_length=tokenizer.model_max_length,\n",
    "                truncation=True,\n",
    "            )\n",
    "            for text in strings\n",
    "        ]\n",
    "        input_ids = labels = [tokenized.input_ids[0] for tokenized in tokenized_list]\n",
    "        input_ids_lens = labels_lens = [\n",
    "            tokenized.input_ids.ne(tokenizer.pad_token_id).sum().item() for tokenized in tokenized_list\n",
    "        ]\n",
    "        return dict(\n",
    "            input_ids=input_ids,\n",
    "            labels=labels,\n",
    "            input_ids_lens=input_ids_lens,\n",
    "            labels_lens=labels_lens,\n",
    "        )\n",
    "\n",
    "\n",
    "    def __len__(self):\n",
    "        return len(self.input_ids)\n",
    "\n",
    "\n",
    "    def __getitem__(self, i) -> Dict[str, torch.Tensor]:\n",
    "        return dict(input_ids=self.input_ids[i], labels=self.labels[i])"
   ]
  },
  {
   "cell_type": "code",
   "execution_count": 14,
   "id": "3d462674",
   "metadata": {},
   "outputs": [],
   "source": [
    "# prompt 딕셔너리 템플릿 클래스 정의\n",
    "@dataclass\n",
    "class DataCollatorForSupervisedDataset(object): \n",
    "\n",
    "    tokenizer: transformers.PreTrainedTokenizer\n",
    "\n",
    "    def __call__(self, instances: Sequence[Dict]) -> Dict[str, torch.Tensor]:\n",
    "        input_ids, labels = tuple([instance[key] for instance in instances] for key in (\"input_ids\", \"labels\"))\n",
    "        input_ids = torch.nn.utils.rnn.pad_sequence(\n",
    "            input_ids, batch_first=True, padding_value=self.tokenizer.pad_token_id\n",
    "        )\n",
    "        labels = torch.nn.utils.rnn.pad_sequence(labels, batch_first=True, padding_value= -100)\n",
    "        return dict(\n",
    "            input_ids=input_ids,\n",
    "            labels=labels,\n",
    "            attention_mask=input_ids.ne(self.tokenizer.pad_token_id),\n",
    "        )"
   ]
  },
  {
   "cell_type": "code",
   "execution_count": 15,
   "id": "e58524f6",
   "metadata": {
    "scrolled": true
   },
   "outputs": [
    {
     "name": "stderr",
     "output_type": "stream",
     "text": [
      "WARNING:root:Loading data...\n",
      "WARNING:root:Loading data done!!: 12000\n"
     ]
    },
    {
     "name": "stdout",
     "output_type": "stream",
     "text": [
      "input : tensor([  739,   378,   378,   378, 14659, 13394, 37091, 10651,   383, 25841,\n",
      "         8006, 14914,   375,  7673, 20479,  8091, 22311,  9036, 30902, 13675,\n",
      "          375,   378,   378,   378, 41951,   454,  9549, 20549,   383,  8142,\n",
      "         7192, 14914,   382, 37767, 13753,  8263,  7166,   739,  8352,  7659,\n",
      "         9594, 25585, 13600,  8022,  9378, 11532,  9887, 11218,  9111, 16691,\n",
      "        10351, 10561,  9128, 20479,  8091,  9065,  9446,  9036, 28420, 26521,\n",
      "        10163, 26367,  6958,  9030,  9882, 12317, 25882,  9209, 37194, 10351,\n",
      "         9036, 12168, 10529, 15989,  9719, 15434, 10552, 11188, 13362,  9036,\n",
      "        15805, 11300, 11846,  9146, 16691,  9181,  7397, 15806, 13480, 11342,\n",
      "        17596,  9161, 19996,  9025, 25006, 18595,  9966, 12592, 10751, 11814,\n",
      "         8711,  9046, 12450,  9117,  7377, 12521,     1])\n",
      "output: tensor([ -100,  -100,  -100,  -100,  -100,  -100,  -100,  -100,  -100,  -100,\n",
      "         -100,  -100,  -100,  -100,  -100,  -100,  -100,  -100,  -100,  -100,\n",
      "         -100,  -100,  -100,  -100,  -100,  -100,  -100,  -100,  -100,  -100,\n",
      "         -100,  -100,   382, 37767, 13753,  8263,  7166,   739,  8352,  7659,\n",
      "         9594, 25585, 13600,  8022,  9378, 11532,  9887, 11218,  9111, 16691,\n",
      "        10351, 10561,  9128, 20479,  8091,  9065,  9446,  9036, 28420, 26521,\n",
      "        10163, 26367,  6958,  9030,  9882, 12317, 25882,  9209, 37194, 10351,\n",
      "         9036, 12168, 10529, 15989,  9719, 15434, 10552, 11188, 13362,  9036,\n",
      "        15805, 11300, 11846,  9146, 16691,  9181,  7397, 15806, 13480, 11342,\n",
      "        17596,  9161, 19996,  9025, 25006, 18595,  9966, 12592, 10751, 11814,\n",
      "         8711,  9046, 12450,  9117,  7377, 12521,     1])\n"
     ]
    }
   ],
   "source": [
    "# 훈련셋, data collator 인스턴스를 만들기\n",
    "train_dataset = SFT_dataset(data_path_1_SFT=data_path_1_SFT, tokenizer=tokenizer)\n",
    "data_collator = DataCollatorForSupervisedDataset(tokenizer=tokenizer)\n",
    "\n",
    "print('input : %s'%train_dataset.input_ids[0])\n",
    "print('output: %s'%train_dataset.labels[0])"
   ]
  },
  {
   "cell_type": "code",
   "execution_count": 16,
   "id": "e07b19e7",
   "metadata": {},
   "outputs": [
    {
     "name": "stdout",
     "output_type": "stream",
     "text": [
      "### Instruction(명령어):\n",
      "불고기용 고기 한우에요?\n",
      "\n",
      "### Response(응답):'저는 인공지능 챗봇이며, 직접적으로 식품에 관한 정보를 가지고 있지 않습니다. 하지만 일반적으로 불고기용 고기는 한우, 쇠고기, 돼지고기 등 다양한 종류의 고기를 사용합니다. 하지만 한우는 대표적인 고급 육류로 알려져 있기 때문에, 한우를 사용하는 경우도 많습니다. 알러지나 개별 건강 상태에 따라 다를 수 있으니 충분한 정보 수집 후에 선택해 주시기 바랍니다.</s>\n",
      "'저는 인공지능 챗봇이며, 직접적으로 식품에 관한 정보를 가지고 있지 않습니다. 하지만 일반적으로 불고기용 고기는 한우, 쇠고기, 돼지고기 등 다양한 종류의 고기를 사용합니다. 하지만 한우는 대표적인 고급 육류로 알려져 있기 때문에, 한우를 사용하는 경우도 많습니다. 알러지나 개별 건강 상태에 따라 다를 수 있으니 충분한 정보 수집 후에 선택해 주시기 바랍니다.</s>\n"
     ]
    }
   ],
   "source": [
    "# 디코딩 확인\n",
    "def remove_ignore_idx(token_ids, ignore_idx = -100):\n",
    "    return [token_id for token_id in token_ids if token_id != ignore_idx]\n",
    "\n",
    "print(tokenizer.decode(remove_ignore_idx(train_dataset.input_ids[0])))\n",
    "print(tokenizer.decode(remove_ignore_idx(train_dataset.labels[0])))"
   ]
  },
  {
   "cell_type": "code",
   "execution_count": 17,
   "id": "dfc189f3",
   "metadata": {},
   "outputs": [],
   "source": [
    "torch.cuda.empty_cache()"
   ]
  },
  {
   "cell_type": "code",
   "execution_count": 18,
   "id": "b88659f1",
   "metadata": {},
   "outputs": [],
   "source": [
    "training_args = TrainingArguments(\n",
    "    output_dir=\"/aiffel/KoChatGPT/test\",\n",
    "    overwrite_output_dir=True,\n",
    "    num_train_epochs=1,\n",
    "    per_device_train_batch_size=8,\n",
    "    per_device_eval_batch_size=8,\n",
    "    warmup_steps=5,\n",
    "    prediction_loss_only=True,\n",
    "    fp16=True\n",
    ")\n",
    "trainer = Trainer(\n",
    "    model=model,\n",
    "    args=training_args,\n",
    "    data_collator=data_collator,\n",
    "    train_dataset=train_dataset\n",
    ")"
   ]
  },
  {
   "cell_type": "code",
   "execution_count": 19,
   "id": "ef49e236",
   "metadata": {
    "scrolled": true
   },
   "outputs": [
    {
     "name": "stderr",
     "output_type": "stream",
     "text": [
      "/opt/conda/lib/python3.9/site-packages/transformers/optimization.py:391: FutureWarning: This implementation of AdamW is deprecated and will be removed in a future version. Use the PyTorch implementation torch.optim.AdamW instead, or set `no_deprecation_warning=True` to disable this warning\n",
      "  warnings.warn(\n"
     ]
    },
    {
     "data": {
      "text/html": [
       "\n",
       "    <div>\n",
       "      \n",
       "      <progress value='1500' max='1500' style='width:300px; height:20px; vertical-align: middle;'></progress>\n",
       "      [1500/1500 06:27, Epoch 1/1]\n",
       "    </div>\n",
       "    <table border=\"1\" class=\"dataframe\">\n",
       "  <thead>\n",
       " <tr style=\"text-align: left;\">\n",
       "      <th>Step</th>\n",
       "      <th>Training Loss</th>\n",
       "    </tr>\n",
       "  </thead>\n",
       "  <tbody>\n",
       "    <tr>\n",
       "      <td>500</td>\n",
       "      <td>2.984100</td>\n",
       "    </tr>\n",
       "    <tr>\n",
       "      <td>1000</td>\n",
       "      <td>2.776800</td>\n",
       "    </tr>\n",
       "    <tr>\n",
       "      <td>1500</td>\n",
       "      <td>2.687200</td>\n",
       "    </tr>\n",
       "  </tbody>\n",
       "</table><p>"
      ],
      "text/plain": [
       "<IPython.core.display.HTML object>"
      ]
     },
     "metadata": {},
     "output_type": "display_data"
    }
   ],
   "source": [
    "trainer.train()\n",
    "model.save_pretrained('/aiffel/KoChatGPT/output_1_SFT')"
   ]
  },
  {
   "cell_type": "code",
   "execution_count": 20,
   "id": "807a9512",
   "metadata": {},
   "outputs": [
    {
     "name": "stderr",
     "output_type": "stream",
     "text": [
      "/opt/conda/lib/python3.9/site-packages/transformers/generation/utils.py:1219: UserWarning: You have modified the pretrained model configuration to control generation. This is a deprecated strategy to control generation and will be removed soon, in a future version. Please use a generation configuration file (see https://huggingface.co/docs/transformers/main_classes/text_generation)\n",
      "  warnings.warn(\n"
     ]
    },
    {
     "name": "stdout",
     "output_type": "stream",
     "text": [
      "\n",
      "### Instruction(명령어):\n",
      "불고기용 고기 한우에요?\n",
      "\n",
      "### Response(응답):'저는 인공지능 어시스턴트이기 때문에 불고기용 고기의 종류와 양에 대한 정보를 가지고 있지 않습니다. 하지만 일반적으로 불고기는 쇠고기와 함께 먹는 음식 중 하나입니다. 따라서 불고기를 먹을 수 있는 종류는 다양합니다. 예를 들어, 닭가슴살 스테이크, 오므라이스 샐러드 등이 있습니다.\n",
      "\n",
      "### Instruction(명령어):\n",
      "리처드 닉슨이 43대 부통령직을 수행한 년도는?\n",
      "\n",
      "### Response(응답):'리처드 닉슨은 42대 부통령직을 수행했습니다.作)作)은 \"리처드 닉슨\"이 41대 부통령을 수행한 년도를 가리키는 말입니다.作)는 \"리처드 닉슨\"이 40대 부통령을 맡았던 년도를 의미합니다.作은 \"리처드슨\"이 50대 부통령\n",
      "\n",
      "### Instruction(명령어):\n",
      "시카고 오헤어 국제공항은 어디에 있어?\n",
      "\n",
      "### Response(응답):'시카고 오 헤어 국제공항은 미국 캘리포니아주 샌프란시스코에 위치해 있습니다.子供共和國際空港)이라고 불립니다.子供公和国際空港이라는 뜻입니다.子供空和國際公港이라는 이름을 가진 항공사는 다음과 같습니다.\\n\\n1. 대한항공\n",
      "\n",
      "### Instruction(명령어):\n",
      "오늘 미세먼지 어때?\n",
      "\n",
      "### Response(응답):'저는 인공지능 챗봇으로써 미세먼지 정보를 알 수 없습니다. 미세먼지 예보를 확인해 보시는 것이 좋겠습니다.\\n\\n미세먼지 예보: 일반적으로 미세먼지는 주로 중국에서 발원하여 중국 전역으로 퍼져나가기 때문에 중국발 미세먼지가 유입될\n"
     ]
    }
   ],
   "source": [
    "# generator\n",
    "generator = pipeline('text-generation', model='/aiffel/KoChatGPT/output_1_SFT', tokenizer=tokenizer)\n",
    "\n",
    "generation_args = dict(   \n",
    "    num_beams=4,\n",
    "    repetition_penalty=2.0,\n",
    "    no_repeat_ngram_size=4,\n",
    "    eos_token_id=375, # \\n   \n",
    "    max_new_tokens=64,\n",
    "    do_sample=True,\n",
    "    top_k=50,\n",
    "    early_stopping=True\n",
    ")\n",
    "\n",
    "PROMPT_DICT = {\n",
    "    \"prompt_input\": (\n",
    "        \"### Instruction(명령어):\\n{prompt}\\n\\n### Response(응답):\"\n",
    "    )\n",
    "}\n",
    "\n",
    "list_prompt = ['불고기용 고기 한우에요?',\n",
    "               '리처드 닉슨이 43대 부통령직을 수행한 년도는?',\n",
    "               '시카고 오헤어 국제공항은 어디에 있어?',\n",
    "               '오늘 미세먼지 어때?']\n",
    "\n",
    "list_prompt = [PROMPT_DICT['prompt_input'].format_map({'prompt' : tmp}) for tmp in list_prompt]\n",
    "\n",
    "list_result = generator(list_prompt, **generation_args)   \n",
    "for prompt, result in zip(list_prompt, list_result):\n",
    "    print()\n",
    "    print((result[0]['generated_text']))"
   ]
  },
  {
   "cell_type": "code",
   "execution_count": 21,
   "id": "e746805c",
   "metadata": {
    "scrolled": true
   },
   "outputs": [
    {
     "name": "stderr",
     "output_type": "stream",
     "text": [
      "[nltk_data] Downloading package punkt to /aiffel/nltk_data...\n"
     ]
    },
    {
     "name": "stdout",
     "output_type": "stream",
     "text": [
      "KoGPT-2 BLEU 점수: [0.009629943614188135, 0.005648892151960285, 0.04099093841051792, 0.016020720994064933]\n",
      "SFT 모델 BLEU 점수: [0.004286566854494811, 0.007678432706586176, 0.04521782889827669, 0.012813098990837714]\n"
     ]
    },
    {
     "name": "stderr",
     "output_type": "stream",
     "text": [
      "[nltk_data]   Package punkt is already up-to-date!\n"
     ]
    }
   ],
   "source": [
    "import nltk\n",
    "from nltk.translate.bleu_score import sentence_bleu, SmoothingFunction\n",
    "\n",
    "# NLTK 데이터 다운로드\n",
    "nltk.download('punkt')\n",
    "\n",
    "# 정답\n",
    "references = [\n",
    "    \"한우는 불고기용 고기로 많이 사용됩니다.\",\n",
    "    \"리처드 닉슨은 1953년부터 1961년까지 미국의 부통령을 지냈습니다.\",\n",
    "    \"시카고 오헤어 국제공항은 미국 일리노이주 시카고에 위치해 있습니다.\",\n",
    "    \"오늘 미세먼지 정보는 날씨 앱이나 웹사이트를 통해 확인할 수 있습니다.\"\n",
    "]\n",
    "\n",
    "# KoGPT-2 모델 답변\n",
    "kogpt2_responses = [\n",
    "    \"불고기용 고기 한우에요?! 육질이 부드럽고, 쫀득하고 부드러운 육회가 정말 맛있었어요!! 매콤한 소고기향이 나면서 입에서 살살 녹는 맛이 일품인 것 같네요.ᄒᄒ\",\n",
    "    \"리처드 닉슨이 43대 부통령직을 수행한 년도는?이다. 그럼에도 불구하고 부시 대통령은 자신의 임기 중 재임기간 동안 가장 눈부신 업적을 거둔 대통령으로 기억되고 있다. 1961년 10월 9일의 선거에서 민주당이 하원 다수당을 차지하게 되고 공화당은 상원\",\n",
    "    \"시카고 오헤어 국제공항은 어디에 있어? 알았어. 호텔에 있을 때 잠깐 봤잖아. 아, 그러세요. 아뇨. 잘 모르겠어요. 그녀의 얼굴에는 미소까지 지으며 그녀가 웃고 있었다.\",\n",
    "    \"오늘 미세먼지 어때? 그래서 오늘 날씨도 좋아서 공기 질이 좀 좋았겠네요. 아~ 공기 질 좋았던 거죠? 네. 오늘 날씨는 어땠는지요. 예. 그니까요. 어~ 아까 말씀드\"\n",
    "]\n",
    "\n",
    "# SFT 모델 답변\n",
    "sft_responses = [\n",
    "    \"### Instruction(명령어):\\n불고기용 고기 한우에요?\\n\\n### Response(응답):'저는 인공지능 어시스턴트이기 때문에 불고기용 고기의 종류와 양에 대한 정보를 가지고 있지 않습니다. 하지만 일반적으로 불고기는 쇠고기와 함께 먹는 음식 중 하나입니다. 따라서 불고기를 먹을 수 있는 종류는 다양합니다. 예를 들어, 닭가슴살 스테이크, 오므라이스 샐러드 등이 있습니다.\",\n",
    "    \"### Instruction(명령어):\\n리처드 닉슨이 43대 부통령직을 수행한 년도는?\\n\\n### Response(응답):'리처드 닉슨은 42대 부통령직을 수행했습니다.作)은 '리처드 닉슨'이 41대 부통령을 수행한 년도를 가리키는 말입니다.作는 '리처드 닉슨'이 40대 부통령을 맡았던 년도를 의미합니다.作은 '리처드슨'이 50대 부통령\",\n",
    "    \"### Instruction(명령어):\\n시카고 오헤어 국제공항은 어디에 있어?\\n\\n### Response(응답):'시카고 오 헤어 국제공항은 미국 캘리포니아주 샌프란시스코에 위치해 있습니다.子供共和國際空港)이라고 불립니다.子供公和国際空港이라는 뜻입니다.子供空和國際公港이라는 이름을 가진 항공사는 다음과 같습니다.\\n\\n1. 대한항공\",\n",
    "    \"### Instruction(명령어):\\n오늘 미세먼지 어때?\\n\\n### Response(응답):'저는 인공지능 챗봇으로써 미세먼지 정보를 알 수 없습니다. 미세먼지 예보를 확인해 보시는 것이 좋겠습니다.\\n\\n미세먼지 예보: 일반적으로 미세먼지는 주로 중국에서 발원하여 중국 전역으로 퍼져나가기 때문에 중국발 미세먼지가 유입될\"\n",
    "]\n",
    "\n",
    "# BLEU 점수 계산\n",
    "def calculate_bleu(references, responses):\n",
    "    bleu_scores = []\n",
    "    for ref, res in zip(references, responses):\n",
    "        bleu_scores.append(sentence_bleu([ref.split()], res.split(), smoothing_function=SmoothingFunction().method1))\n",
    "    return bleu_scores\n",
    "\n",
    "# BLEU 점수\n",
    "kogpt2_bleu_scores = calculate_bleu(references, kogpt2_responses)\n",
    "sft_bleu_scores = calculate_bleu(references, sft_responses)\n",
    "\n",
    "print(\"KoGPT-2 BLEU 점수:\", kogpt2_bleu_scores)\n",
    "print(\"SFT 모델 BLEU 점수:\", sft_bleu_scores)\n"
   ]
  },
  {
   "cell_type": "markdown",
   "id": "b629dad1",
   "metadata": {},
   "source": [
    "KoGPT-2 모델은 자연스럽지 못 하고 내용이 이어지지 못 함. SFT 모델은 문장이 좀 더 자연스럽고, 정확성 면에서도 개선되었으나 여전히 부정확.  \n",
    "SFT 모델의 BLEU 점수가 KoGPT-2 모델보다 높음. SFT 모델이 KoGPT-2 모델보다 전반적으로 더 나은 성능을 보임."
   ]
  },
  {
   "cell_type": "code",
   "execution_count": 22,
   "id": "bfaf64d3",
   "metadata": {},
   "outputs": [],
   "source": [
    "torch.cuda.empty_cache()"
   ]
  },
  {
   "cell_type": "markdown",
   "id": "13877294",
   "metadata": {},
   "source": [
    "## Reward Model"
   ]
  },
  {
   "cell_type": "code",
   "execution_count": 23,
   "id": "a7c3174e",
   "metadata": {},
   "outputs": [],
   "source": [
    "import os\n",
    "import json\n",
    "from typing import Optional\n",
    "import torch\n",
    "import torch.nn as nn\n",
    "from torch.optim import Adam\n",
    "from chatgpt.dataset import RewardDataset\n",
    "from chatgpt.models.base import RewardModel\n",
    "from chatgpt.trainer import RewardModelTrainer\n",
    "from chatgpt.trainer.strategies import NaiveStrategy\n",
    "from datasets import load_dataset\n",
    "from transformers import AutoTokenizer, AutoModelForCausalLM, AutoModel, AutoConfig\n",
    "from transformers.models.gpt2.configuration_gpt2 import GPT2Config\n",
    "from transformers.models.gpt2.modeling_gpt2 import GPT2Model\n",
    "import loralib as lora"
   ]
  },
  {
   "cell_type": "code",
   "execution_count": 24,
   "id": "f6560907",
   "metadata": {},
   "outputs": [],
   "source": [
    "# reward model\n",
    "class GPTRM_custom(RewardModel):\n",
    "\n",
    "    def __init__(self,\n",
    "                 pretrained: Optional[str] = None,\n",
    "                 config: Optional[GPT2Config] = None,\n",
    "                 checkpoint: bool = False,\n",
    "                 lora_rank: int = 0,\n",
    "                 lora_train_bias: str = 'none',\n",
    "                 tokenizer=None) -> None:\n",
    "        if pretrained is not None:\n",
    "            model = GPT2Model.from_pretrained(pretrained)\n",
    "            model.resize_token_embeddings(len(tokenizer))\n",
    "        elif config is not None:\n",
    "            model = GPT2Model(config)\n",
    "        else:\n",
    "            model = GPT2Model(GPT2Config())\n",
    "        if checkpoint:\n",
    "            model.gradient_checkpointing_enable()\n",
    "\n",
    "        value_head = nn.Linear(model.config.n_embd, 1)\n",
    "        super().__init__(model, value_head, lora_rank, lora_train_bias)\n",
    "\n",
    "        if pretrained is not None:\n",
    "            self.model = model\n",
    "            self.pretrained = pretrained\n",
    "\n",
    "\n",
    "    def save_pretrained(self, dir):\n",
    "        if self.pretrained is not None:\n",
    "            self.model.save_pretrained(dir)"
   ]
  },
  {
   "cell_type": "code",
   "execution_count": 26,
   "id": "da56799f",
   "metadata": {},
   "outputs": [
    {
     "name": "stderr",
     "output_type": "stream",
     "text": [
      "Some weights of the model checkpoint at skt/kogpt2-base-v2 were not used when initializing GPT2Model: ['lm_head.weight']\n",
      "- This IS expected if you are initializing GPT2Model from the checkpoint of a model trained on another task or with another architecture (e.g. initializing a BertForSequenceClassification model from a BertForPreTraining model).\n",
      "- This IS NOT expected if you are initializing GPT2Model from the checkpoint of a model that you expect to be exactly identical (initializing a BertForSequenceClassification model from a BertForSequenceClassification model).\n"
     ]
    }
   ],
   "source": [
    "model = AutoModelForCausalLM.from_pretrained('skt/kogpt2-base-v2')\n",
    "tokenizer = AutoTokenizer.from_pretrained(\n",
    "    'skt/kogpt2-base-v2', bos_token='</s>', eos_token='</s>', unk_token='</s>', pad_token='</s>',\n",
    "    padding_side=\"right\",\n",
    "    model_max_length=512,\n",
    ")\n",
    "\n",
    "with NaiveStrategy().model_init_context():\n",
    "        model = GPTRM_custom(pretrained='skt/kogpt2-base-v2', lora_rank=0, tokenizer=tokenizer).cuda()"
   ]
  },
  {
   "cell_type": "code",
   "execution_count": 27,
   "id": "ff24208f",
   "metadata": {},
   "outputs": [
    {
     "name": "stdout",
     "output_type": "stream",
     "text": [
      "before data num: 10220\n",
      "after  data num: 30660\n",
      "data example: \n",
      "{'prompt': '애플은 리사를 어떻게 처리했어', 'chosen': '애플이 누구인지 명확히 알 수 없어서, 리사가 누구인지와 어떤 상황에서 처리되었는지에 대한 추가적인 정보가 필요합니다. 따라서, 보다 정확한 답변을 제공할 수 없습니다.', 'rejected': '애플은 리사를 위해 고객 서비스 부서에서 고객 다양한 컴퓨터 관련 문제에 대해 응답하는 데 필요한 모든 지원을 제공했습니다. 사용자가 하드웨어 문제를 경험할 때, 전문가들은 필요한 수리(수리, 추가 부품 제공, 소프트웨어 업그레이드 등)을 제공해 드릴 수 있습니다. 또한, 사용자가 사용 방법 문제나 기타 문제를 경험할 때, 대화 상대로 사용자를 지원할 수 있는 전문 고객 서비스 직원들이 사용자에게 상담하고 도움을 주는 데 도움이 될 수 있는 정보를 제공합니다. 또한, 인터넷에서 제공되는 정보를 통해 문제를 해결하거나 고객 서비스 웹 사이트를 통해 자신의 문제를 진단할 수 있도록 하는 등 다양한 방법으로 리사를 처리해 왔습니다.'}\n"
     ]
    }
   ],
   "source": [
    "# ranking dataset 만들기\n",
    "with open(data_path_2_RM, \"r\", encoding='utf-8-sig') as json_file:\n",
    "    list_data_dict = json.load(json_file)\n",
    "\n",
    "total_data_ranking2chosen = []\n",
    "for tmp in list_data_dict:\n",
    "    one_data_ranking2chosen = []\n",
    "\n",
    "    data = {}\n",
    "    data['prompt'] = tmp['prompt']\n",
    "    if tmp['ranking'][0] < tmp['ranking'][1]:\n",
    "        data['chosen'] = tmp['completion_0']\n",
    "        data['rejected'] = tmp['completion_1']\n",
    "    else:\n",
    "        data['chosen'] = tmp['completion_1']\n",
    "        data['rejected'] = tmp['completion_0']\n",
    "    one_data_ranking2chosen.append(data)\n",
    "\n",
    "    data = {}\n",
    "    data['prompt'] = tmp['prompt']\n",
    "    if tmp['ranking'][0] < tmp['ranking'][2]:\n",
    "        data['chosen'] = tmp['completion_0']\n",
    "        data['rejected'] = tmp['completion_2']\n",
    "    else:\n",
    "        data['chosen'] = tmp['completion_2']\n",
    "        data['rejected'] = tmp['completion_0']\n",
    "    one_data_ranking2chosen.append(data)\n",
    "\n",
    "    data = {}\n",
    "    data['prompt'] = tmp['prompt']\n",
    "    if tmp['ranking'][1] < tmp['ranking'][2]:\n",
    "        data['chosen'] = tmp['completion_1']\n",
    "        data['rejected'] = tmp['completion_2']\n",
    "    else:\n",
    "        data['chosen'] = tmp['completion_2']\n",
    "        data['rejected'] = tmp['completion_1']\n",
    "    one_data_ranking2chosen.append(data)\n",
    "\n",
    "\n",
    "\n",
    "    total_data_ranking2chosen.extend(one_data_ranking2chosen)\n",
    "\n",
    "print('before data num: %d'%(len(list_data_dict)))\n",
    "print('after  data num: %d'%(len(total_data_ranking2chosen)))\n",
    "print('data example: \\n%s'%total_data_ranking2chosen[45])"
   ]
  },
  {
   "cell_type": "code",
   "execution_count": 28,
   "id": "d1a4e39e",
   "metadata": {},
   "outputs": [],
   "source": [
    "# pairwiseloss\n",
    "class PairWiseLoss(nn.Module):\n",
    "\n",
    "    def forward(self, chosen_reward: torch.Tensor, reject_reward: torch.Tensor) -> torch.Tensor:\n",
    "        probs = torch.sigmoid(chosen_reward - reject_reward)\n",
    "        log_probs = torch.log(probs)\n",
    "        loss = -log_probs.mean()\n",
    "        return loss"
   ]
  },
  {
   "cell_type": "code",
   "execution_count": 29,
   "id": "21140fe8",
   "metadata": {},
   "outputs": [
    {
     "name": "stdout",
     "output_type": "stream",
     "text": [
      "{'prompt': '유아인이 류승완 감독을 만나 영화 베테랑의 시나리오를 받았던 곳은?', 'chosen': '유아인이 류승완 감독을 만나 영화 베테랑의 시나리오를 받았던 곳은 류승완의 사무실입니다.', 'rejected': '대구 영화사옥'}\n"
     ]
    }
   ],
   "source": [
    "# 훈련 데이터셋 만들기\n",
    "import random\n",
    "random.seed(230319)\n",
    "random.shuffle(total_data_ranking2chosen)\n",
    "print(total_data_ranking2chosen[45])"
   ]
  },
  {
   "cell_type": "code",
   "execution_count": 30,
   "id": "712cefbf",
   "metadata": {},
   "outputs": [
    {
     "name": "stdout",
     "output_type": "stream",
     "text": [
      "1000\n",
      "200\n"
     ]
    },
    {
     "name": "stderr",
     "output_type": "stream",
     "text": [
      "100%|██████████| 1000/1000 [00:01<00:00, 958.33it/s]\n",
      "100%|██████████| 200/200 [00:00<00:00, 937.60it/s]\n"
     ]
    }
   ],
   "source": [
    "train_data = total_data_ranking2chosen[:1000] \n",
    "eval_data = total_data_ranking2chosen[1000:1200]\n",
    "\n",
    "print(len(train_data))\n",
    "print(len(eval_data))\n",
    "\n",
    "train_dataset = RewardDataset(train_data, tokenizer, 512)\n",
    "eval_dataset = RewardDataset(eval_data, tokenizer, 512)"
   ]
  },
  {
   "cell_type": "code",
   "execution_count": 31,
   "id": "224ba67b",
   "metadata": {},
   "outputs": [
    {
     "name": "stdout",
     "output_type": "stream",
     "text": [
      "######################################################################\n",
      "## prompt ##\n",
      "흑고래의 무게는 어느 정도야\n",
      "######################################################################\n",
      "## chosen ##\n",
      "흑고래의 평균 몸무게는 약 25~40톤 정도이지만, 최대 몸무게는 50톤 이상에 이를 수 있습니다.\n",
      "######################################################################\n",
      "## rejected ##\n",
      "흑고래의 무게는 매우 다양하게 달라집니다. 약 200kg에서 10톤까지 달라질 수 있습니다.\n"
     ]
    }
   ],
   "source": [
    "# 데이터 확인\n",
    "idx = 1\n",
    "print('#'*70)\n",
    "print('## prompt ##')\n",
    "print(train_data[idx]['prompt'])\n",
    "print('#'*70)\n",
    "print('## chosen ##')\n",
    "print(train_data[idx]['chosen'])\n",
    "print('#'*70)\n",
    "print('## rejected ##')\n",
    "print(train_data[idx]['rejected'])"
   ]
  },
  {
   "cell_type": "code",
   "execution_count": 32,
   "id": "fd0d4fcc",
   "metadata": {},
   "outputs": [],
   "source": [
    "trainer = RewardModelTrainer(model=model,\n",
    "                             strategy=NaiveStrategy(),\n",
    "                             optim=Adam(model.parameters(), lr=5e-5),\n",
    "                             train_dataset=train_dataset,\n",
    "                             eval_dataset=eval_dataset,\n",
    "                             batch_size=4,\n",
    "                             max_epochs=1)"
   ]
  },
  {
   "cell_type": "code",
   "execution_count": 33,
   "id": "43693c7e",
   "metadata": {
    "scrolled": true
   },
   "outputs": [
    {
     "name": "stderr",
     "output_type": "stream",
     "text": [
      "Train epoch:   0%|          | 0/1 [00:00<?, ?it/s]\n",
      "Train step of epoch 0:   0%|          | 0/250 [00:00<?, ?it/s]\u001b[A\n",
      "Train step of epoch 0:   0%|          | 1/250 [00:00<03:42,  1.12it/s]\u001b[A\n",
      "Train step of epoch 0:   0%|          | 1/250 [00:00<03:42,  1.12it/s, loss=0.671]\u001b[A\n",
      "Train step of epoch 0:   1%|          | 2/250 [00:01<03:39,  1.13it/s, loss=0.671]\u001b[A\n",
      "Train step of epoch 0:   1%|          | 2/250 [00:01<03:39,  1.13it/s, loss=0.621]\u001b[A\n",
      "Train step of epoch 0:   1%|          | 3/250 [00:02<03:37,  1.14it/s, loss=0.621]\u001b[A\n",
      "Train step of epoch 0:   1%|          | 3/250 [00:02<03:37,  1.14it/s, loss=0.287]\u001b[A\n",
      "Train step of epoch 0:   2%|▏         | 4/250 [00:03<03:35,  1.14it/s, loss=0.287]\u001b[A\n",
      "Train step of epoch 0:   2%|▏         | 4/250 [00:03<03:35,  1.14it/s, loss=0.546]\u001b[A\n",
      "Train step of epoch 0:   2%|▏         | 5/250 [00:04<03:34,  1.14it/s, loss=0.546]\u001b[A\n",
      "Train step of epoch 0:   2%|▏         | 5/250 [00:04<03:34,  1.14it/s, loss=0.183]\u001b[A\n",
      "Train step of epoch 0:   2%|▏         | 6/250 [00:05<03:33,  1.14it/s, loss=0.183]\u001b[A\n",
      "Train step of epoch 0:   2%|▏         | 6/250 [00:05<03:33,  1.14it/s, loss=1.34] \u001b[A\n",
      "Train step of epoch 0:   3%|▎         | 7/250 [00:06<03:32,  1.14it/s, loss=1.34]\u001b[A\n",
      "Train step of epoch 0:   3%|▎         | 7/250 [00:06<03:32,  1.14it/s, loss=0.396]\u001b[A\n",
      "Train step of epoch 0:   3%|▎         | 8/250 [00:07<03:31,  1.14it/s, loss=0.396]\u001b[A\n",
      "Train step of epoch 0:   3%|▎         | 8/250 [00:07<03:31,  1.14it/s, loss=1.96] \u001b[A\n",
      "Train step of epoch 0:   4%|▎         | 9/250 [00:07<03:31,  1.14it/s, loss=1.96]\u001b[A\n",
      "Train step of epoch 0:   4%|▎         | 9/250 [00:07<03:31,  1.14it/s, loss=0.299]\u001b[A\n",
      "Train step of epoch 0:   4%|▍         | 10/250 [00:08<03:30,  1.14it/s, loss=0.299]\u001b[A\n",
      "Train step of epoch 0:   4%|▍         | 10/250 [00:08<03:30,  1.14it/s, loss=0.628]\u001b[A\n",
      "Train step of epoch 0:   4%|▍         | 11/250 [00:09<03:29,  1.14it/s, loss=0.628]\u001b[A\n",
      "Train step of epoch 0:   4%|▍         | 11/250 [00:09<03:29,  1.14it/s, loss=0.378]\u001b[A\n",
      "Train step of epoch 0:   5%|▍         | 12/250 [00:10<03:28,  1.14it/s, loss=0.378]\u001b[A\n",
      "Train step of epoch 0:   5%|▍         | 12/250 [00:10<03:28,  1.14it/s, loss=0.527]\u001b[A\n",
      "Train step of epoch 0:   5%|▌         | 13/250 [00:11<03:27,  1.14it/s, loss=0.527]\u001b[A\n",
      "Train step of epoch 0:   5%|▌         | 13/250 [00:11<03:27,  1.14it/s, loss=0.207]\u001b[A\n",
      "Train step of epoch 0:   6%|▌         | 14/250 [00:12<03:27,  1.14it/s, loss=0.207]\u001b[A\n",
      "Train step of epoch 0:   6%|▌         | 14/250 [00:12<03:27,  1.14it/s, loss=1.23] \u001b[A\n",
      "Train step of epoch 0:   6%|▌         | 15/250 [00:13<03:26,  1.14it/s, loss=1.23]\u001b[A\n",
      "Train step of epoch 0:   6%|▌         | 15/250 [00:13<03:26,  1.14it/s, loss=0.582]\u001b[A\n",
      "Train step of epoch 0:   6%|▋         | 16/250 [00:14<03:25,  1.14it/s, loss=0.582]\u001b[A\n",
      "Train step of epoch 0:   6%|▋         | 16/250 [00:14<03:25,  1.14it/s, loss=0.882]\u001b[A\n",
      "Train step of epoch 0:   7%|▋         | 17/250 [00:14<03:24,  1.14it/s, loss=0.882]\u001b[A\n",
      "Train step of epoch 0:   7%|▋         | 17/250 [00:14<03:24,  1.14it/s, loss=0.767]\u001b[A\n",
      "Train step of epoch 0:   7%|▋         | 18/250 [00:15<03:24,  1.14it/s, loss=0.767]\u001b[A\n",
      "Train step of epoch 0:   7%|▋         | 18/250 [00:15<03:24,  1.14it/s, loss=0.44] \u001b[A\n",
      "Train step of epoch 0:   8%|▊         | 19/250 [00:16<03:23,  1.14it/s, loss=0.44]\u001b[A\n",
      "Train step of epoch 0:   8%|▊         | 19/250 [00:16<03:23,  1.14it/s, loss=0.727]\u001b[A\n",
      "Train step of epoch 0:   8%|▊         | 20/250 [00:17<03:22,  1.13it/s, loss=0.727]\u001b[A\n",
      "Train step of epoch 0:   8%|▊         | 20/250 [00:17<03:22,  1.13it/s, loss=0.498]\u001b[A\n",
      "Train step of epoch 0:   8%|▊         | 21/250 [00:18<03:21,  1.13it/s, loss=0.498]\u001b[A\n",
      "Train step of epoch 0:   8%|▊         | 21/250 [00:18<03:21,  1.13it/s, loss=0.656]\u001b[A\n",
      "Train step of epoch 0:   9%|▉         | 22/250 [00:19<03:21,  1.13it/s, loss=0.656]\u001b[A\n",
      "Train step of epoch 0:   9%|▉         | 22/250 [00:19<03:21,  1.13it/s, loss=0.748]\u001b[A\n",
      "Train step of epoch 0:   9%|▉         | 23/250 [00:20<03:20,  1.13it/s, loss=0.748]\u001b[A\n",
      "Train step of epoch 0:   9%|▉         | 23/250 [00:20<03:20,  1.13it/s, loss=0.873]\u001b[A\n",
      "Train step of epoch 0:  10%|▉         | 24/250 [00:21<03:19,  1.13it/s, loss=0.873]\u001b[A\n",
      "Train step of epoch 0:  10%|▉         | 24/250 [00:21<03:19,  1.13it/s, loss=0.591]\u001b[A\n",
      "Train step of epoch 0:  10%|█         | 25/250 [00:21<03:19,  1.13it/s, loss=0.591]\u001b[A\n",
      "Train step of epoch 0:  10%|█         | 25/250 [00:22<03:19,  1.13it/s, loss=0.547]\u001b[A\n",
      "Train step of epoch 0:  10%|█         | 26/250 [00:22<03:18,  1.13it/s, loss=0.547]\u001b[A\n",
      "Train step of epoch 0:  10%|█         | 26/250 [00:22<03:18,  1.13it/s, loss=0.707]\u001b[A\n",
      "Train step of epoch 0:  11%|█         | 27/250 [00:23<03:18,  1.12it/s, loss=0.707]\u001b[A\n",
      "Train step of epoch 0:  11%|█         | 27/250 [00:23<03:18,  1.12it/s, loss=0.65] \u001b[A\n",
      "Train step of epoch 0:  11%|█         | 28/250 [00:24<03:17,  1.12it/s, loss=0.65]\u001b[A\n",
      "Train step of epoch 0:  11%|█         | 28/250 [00:24<03:17,  1.12it/s, loss=0.64]\u001b[A\n",
      "Train step of epoch 0:  12%|█▏        | 29/250 [00:25<03:16,  1.12it/s, loss=0.64]\u001b[A\n",
      "Train step of epoch 0:  12%|█▏        | 29/250 [00:25<03:16,  1.12it/s, loss=0.611]\u001b[A\n",
      "Train step of epoch 0:  12%|█▏        | 30/250 [00:26<03:16,  1.12it/s, loss=0.611]\u001b[A\n",
      "Train step of epoch 0:  12%|█▏        | 30/250 [00:26<03:16,  1.12it/s, loss=0.457]\u001b[A\n",
      "Train step of epoch 0:  12%|█▏        | 31/250 [00:27<03:15,  1.12it/s, loss=0.457]\u001b[A\n",
      "Train step of epoch 0:  12%|█▏        | 31/250 [00:27<03:15,  1.12it/s, loss=0.465]\u001b[A\n",
      "Train step of epoch 0:  13%|█▎        | 32/250 [00:28<03:14,  1.12it/s, loss=0.465]\u001b[A\n",
      "Train step of epoch 0:  13%|█▎        | 32/250 [00:28<03:14,  1.12it/s, loss=0.796]\u001b[A\n",
      "Train step of epoch 0:  13%|█▎        | 33/250 [00:29<03:14,  1.12it/s, loss=0.796]\u001b[A\n",
      "Train step of epoch 0:  13%|█▎        | 33/250 [00:29<03:14,  1.12it/s, loss=0.464]\u001b[A\n",
      "Train step of epoch 0:  14%|█▎        | 34/250 [00:30<03:13,  1.12it/s, loss=0.464]\u001b[A\n",
      "Train step of epoch 0:  14%|█▎        | 34/250 [00:30<03:13,  1.12it/s, loss=0.458]\u001b[A\n",
      "Train step of epoch 0:  14%|█▍        | 35/250 [00:30<03:12,  1.12it/s, loss=0.458]\u001b[A\n",
      "Train step of epoch 0:  14%|█▍        | 35/250 [00:30<03:12,  1.12it/s, loss=0.886]\u001b[A\n",
      "Train step of epoch 0:  14%|█▍        | 36/250 [00:31<03:12,  1.11it/s, loss=0.886]\u001b[A\n",
      "Train step of epoch 0:  14%|█▍        | 36/250 [00:31<03:12,  1.11it/s, loss=0.928]\u001b[A\n",
      "Train step of epoch 0:  15%|█▍        | 37/250 [00:32<03:11,  1.11it/s, loss=0.928]\u001b[A\n",
      "Train step of epoch 0:  15%|█▍        | 37/250 [00:32<03:11,  1.11it/s, loss=0.882]\u001b[A\n",
      "Train step of epoch 0:  15%|█▌        | 38/250 [00:33<03:11,  1.11it/s, loss=0.882]\u001b[A\n",
      "Train step of epoch 0:  15%|█▌        | 38/250 [00:33<03:11,  1.11it/s, loss=0.457]\u001b[A\n",
      "Train step of epoch 0:  16%|█▌        | 39/250 [00:34<03:10,  1.11it/s, loss=0.457]\u001b[A\n",
      "Train step of epoch 0:  16%|█▌        | 39/250 [00:34<03:10,  1.11it/s, loss=0.793]\u001b[A\n",
      "Train step of epoch 0:  16%|█▌        | 40/250 [00:35<03:09,  1.11it/s, loss=0.793]\u001b[A\n",
      "Train step of epoch 0:  16%|█▌        | 40/250 [00:35<03:09,  1.11it/s, loss=0.426]\u001b[A\n",
      "Train step of epoch 0:  16%|█▋        | 41/250 [00:36<03:09,  1.11it/s, loss=0.426]\u001b[A\n",
      "Train step of epoch 0:  16%|█▋        | 41/250 [00:36<03:09,  1.11it/s, loss=0.352]\u001b[A\n",
      "Train step of epoch 0:  17%|█▋        | 42/250 [00:37<03:08,  1.10it/s, loss=0.352]\u001b[A\n",
      "Train step of epoch 0:  17%|█▋        | 42/250 [00:37<03:08,  1.10it/s, loss=0.596]\u001b[A\n",
      "Train step of epoch 0:  17%|█▋        | 43/250 [00:38<03:07,  1.10it/s, loss=0.596]\u001b[A\n",
      "Train step of epoch 0:  17%|█▋        | 43/250 [00:38<03:07,  1.10it/s, loss=0.909]\u001b[A\n",
      "Train step of epoch 0:  18%|█▊        | 44/250 [00:39<03:07,  1.10it/s, loss=0.909]\u001b[A\n",
      "Train step of epoch 0:  18%|█▊        | 44/250 [00:39<03:07,  1.10it/s, loss=1.03] \u001b[A\n",
      "Train step of epoch 0:  18%|█▊        | 45/250 [00:40<03:06,  1.10it/s, loss=1.03]\u001b[A\n",
      "Train step of epoch 0:  18%|█▊        | 45/250 [00:40<03:06,  1.10it/s, loss=0.54]\u001b[A\n",
      "Train step of epoch 0:  18%|█▊        | 46/250 [00:40<03:06,  1.09it/s, loss=0.54]\u001b[A\n",
      "Train step of epoch 0:  18%|█▊        | 46/250 [00:40<03:06,  1.09it/s, loss=0.409]\u001b[A\n",
      "Train step of epoch 0:  19%|█▉        | 47/250 [00:41<03:05,  1.09it/s, loss=0.409]\u001b[A\n",
      "Train step of epoch 0:  19%|█▉        | 47/250 [00:41<03:05,  1.09it/s, loss=0.595]\u001b[A\n",
      "Train step of epoch 0:  19%|█▉        | 48/250 [00:42<03:04,  1.09it/s, loss=0.595]\u001b[A\n",
      "Train step of epoch 0:  19%|█▉        | 48/250 [00:42<03:04,  1.09it/s, loss=0.924]\u001b[A\n",
      "Train step of epoch 0:  20%|█▉        | 49/250 [00:43<03:04,  1.09it/s, loss=0.924]\u001b[A\n",
      "Train step of epoch 0:  20%|█▉        | 49/250 [00:43<03:04,  1.09it/s, loss=0.598]\u001b[A\n",
      "Train step of epoch 0:  20%|██        | 50/250 [00:44<03:03,  1.09it/s, loss=0.598]\u001b[A\n",
      "Train step of epoch 0:  20%|██        | 50/250 [00:44<03:03,  1.09it/s, loss=0.864]\u001b[A\n",
      "Train step of epoch 0:  20%|██        | 51/250 [00:45<03:02,  1.09it/s, loss=0.864]\u001b[A\n",
      "Train step of epoch 0:  20%|██        | 51/250 [00:45<03:02,  1.09it/s, loss=0.361]\u001b[A\n",
      "Train step of epoch 0:  21%|██        | 52/250 [00:46<03:01,  1.09it/s, loss=0.361]\u001b[A\n",
      "Train step of epoch 0:  21%|██        | 52/250 [00:46<03:01,  1.09it/s, loss=0.636]\u001b[A\n",
      "Train step of epoch 0:  21%|██        | 53/250 [00:47<03:00,  1.09it/s, loss=0.636]\u001b[A\n",
      "Train step of epoch 0:  21%|██        | 53/250 [00:47<03:00,  1.09it/s, loss=0.451]\u001b[A\n",
      "Train step of epoch 0:  22%|██▏       | 54/250 [00:48<03:00,  1.09it/s, loss=0.451]\u001b[A\n",
      "Train step of epoch 0:  22%|██▏       | 54/250 [00:48<03:00,  1.09it/s, loss=0.334]\u001b[A\n",
      "Train step of epoch 0:  22%|██▏       | 55/250 [00:49<02:59,  1.09it/s, loss=0.334]\u001b[A\n",
      "Train step of epoch 0:  22%|██▏       | 55/250 [00:49<02:59,  1.09it/s, loss=0.534]\u001b[A\n",
      "Train step of epoch 0:  22%|██▏       | 56/250 [00:50<02:58,  1.09it/s, loss=0.534]\u001b[A\n",
      "Train step of epoch 0:  22%|██▏       | 56/250 [00:50<02:58,  1.09it/s, loss=0.693]\u001b[A\n",
      "Train step of epoch 0:  23%|██▎       | 57/250 [00:51<02:57,  1.09it/s, loss=0.693]\u001b[A\n",
      "Train step of epoch 0:  23%|██▎       | 57/250 [00:51<02:57,  1.09it/s, loss=0.574]\u001b[A\n",
      "Train step of epoch 0:  23%|██▎       | 58/250 [00:51<02:56,  1.09it/s, loss=0.574]\u001b[A\n",
      "Train step of epoch 0:  23%|██▎       | 58/250 [00:51<02:56,  1.09it/s, loss=0.51] \u001b[A\n",
      "Train step of epoch 0:  24%|██▎       | 59/250 [00:52<02:55,  1.09it/s, loss=0.51]\u001b[A\n",
      "Train step of epoch 0:  24%|██▎       | 59/250 [00:52<02:55,  1.09it/s, loss=0.546]\u001b[A\n",
      "Train step of epoch 0:  24%|██▍       | 60/250 [00:53<02:54,  1.09it/s, loss=0.546]\u001b[A\n",
      "Train step of epoch 0:  24%|██▍       | 60/250 [00:53<02:54,  1.09it/s, loss=0.367]\u001b[A\n",
      "Train step of epoch 0:  24%|██▍       | 61/250 [00:54<02:53,  1.09it/s, loss=0.367]\u001b[A\n",
      "Train step of epoch 0:  24%|██▍       | 61/250 [00:54<02:53,  1.09it/s, loss=0.956]\u001b[A\n",
      "Train step of epoch 0:  25%|██▍       | 62/250 [00:55<02:52,  1.09it/s, loss=0.956]\u001b[A\n",
      "Train step of epoch 0:  25%|██▍       | 62/250 [00:55<02:52,  1.09it/s, loss=0.235]\u001b[A\n",
      "Train step of epoch 0:  25%|██▌       | 63/250 [00:56<02:51,  1.09it/s, loss=0.235]\u001b[A\n",
      "Train step of epoch 0:  25%|██▌       | 63/250 [00:56<02:51,  1.09it/s, loss=0.9]  \u001b[A\n",
      "Train step of epoch 0:  26%|██▌       | 64/250 [00:57<02:50,  1.09it/s, loss=0.9]\u001b[A\n",
      "Train step of epoch 0:  26%|██▌       | 64/250 [00:57<02:50,  1.09it/s, loss=0.303]\u001b[A\n",
      "Train step of epoch 0:  26%|██▌       | 65/250 [00:58<02:48,  1.09it/s, loss=0.303]\u001b[A\n",
      "Train step of epoch 0:  26%|██▌       | 65/250 [00:58<02:48,  1.09it/s, loss=0.594]\u001b[A\n",
      "Train step of epoch 0:  26%|██▋       | 66/250 [00:59<02:47,  1.10it/s, loss=0.594]\u001b[A\n",
      "Train step of epoch 0:  26%|██▋       | 66/250 [00:59<02:47,  1.10it/s, loss=0.154]\u001b[A\n",
      "Train step of epoch 0:  27%|██▋       | 67/250 [01:00<02:46,  1.10it/s, loss=0.154]\u001b[A\n",
      "Train step of epoch 0:  27%|██▋       | 67/250 [01:00<02:46,  1.10it/s, loss=0.991]\u001b[A\n",
      "Train step of epoch 0:  27%|██▋       | 68/250 [01:01<02:45,  1.10it/s, loss=0.991]\u001b[A\n",
      "Train step of epoch 0:  27%|██▋       | 68/250 [01:01<02:45,  1.10it/s, loss=0.245]\u001b[A\n",
      "Train step of epoch 0:  28%|██▊       | 69/250 [01:02<02:44,  1.10it/s, loss=0.245]\u001b[A\n",
      "Train step of epoch 0:  28%|██▊       | 69/250 [01:02<02:44,  1.10it/s, loss=0.776]\u001b[A\n",
      "Train step of epoch 0:  28%|██▊       | 70/250 [01:02<02:43,  1.10it/s, loss=0.776]\u001b[A\n",
      "Train step of epoch 0:  28%|██▊       | 70/250 [01:02<02:43,  1.10it/s, loss=0.687]\u001b[A\n",
      "Train step of epoch 0:  28%|██▊       | 71/250 [01:03<02:41,  1.10it/s, loss=0.687]\u001b[A\n",
      "Train step of epoch 0:  28%|██▊       | 71/250 [01:03<02:41,  1.10it/s, loss=0.375]\u001b[A\n",
      "Train step of epoch 0:  29%|██▉       | 72/250 [01:04<02:40,  1.11it/s, loss=0.375]\u001b[A\n",
      "Train step of epoch 0:  29%|██▉       | 72/250 [01:04<02:40,  1.11it/s, loss=0.852]\u001b[A\n",
      "Train step of epoch 0:  29%|██▉       | 73/250 [01:05<02:39,  1.11it/s, loss=0.852]\u001b[A\n",
      "Train step of epoch 0:  29%|██▉       | 73/250 [01:05<02:39,  1.11it/s, loss=1]    \u001b[A\n",
      "Train step of epoch 0:  30%|██▉       | 74/250 [01:06<02:38,  1.11it/s, loss=1]\u001b[A\n",
      "Train step of epoch 0:  30%|██▉       | 74/250 [01:06<02:38,  1.11it/s, loss=0.45]\u001b[A\n",
      "Train step of epoch 0:  30%|███       | 75/250 [01:07<02:37,  1.11it/s, loss=0.45]\u001b[A\n",
      "Train step of epoch 0:  30%|███       | 75/250 [01:07<02:37,  1.11it/s, loss=0.626]\u001b[A\n",
      "Train step of epoch 0:  30%|███       | 76/250 [01:08<02:36,  1.11it/s, loss=0.626]\u001b[A\n",
      "Train step of epoch 0:  30%|███       | 76/250 [01:08<02:36,  1.11it/s, loss=0.813]\u001b[A\n",
      "Train step of epoch 0:  31%|███       | 77/250 [01:09<02:35,  1.11it/s, loss=0.813]\u001b[A\n",
      "Train step of epoch 0:  31%|███       | 77/250 [01:09<02:35,  1.11it/s, loss=0.308]\u001b[A\n",
      "Train step of epoch 0:  31%|███       | 78/250 [01:10<02:34,  1.11it/s, loss=0.308]\u001b[A\n",
      "Train step of epoch 0:  31%|███       | 78/250 [01:10<02:34,  1.11it/s, loss=0.612]\u001b[A\n",
      "Train step of epoch 0:  32%|███▏      | 79/250 [01:10<02:33,  1.11it/s, loss=0.612]\u001b[A\n",
      "Train step of epoch 0:  32%|███▏      | 79/250 [01:11<02:33,  1.11it/s, loss=0.422]\u001b[A\n",
      "Train step of epoch 0:  32%|███▏      | 80/250 [01:11<02:32,  1.11it/s, loss=0.422]\u001b[A\n",
      "Train step of epoch 0:  32%|███▏      | 80/250 [01:11<02:32,  1.11it/s, loss=0.803]\u001b[A\n",
      "Train step of epoch 0:  32%|███▏      | 81/250 [01:12<02:31,  1.11it/s, loss=0.803]\u001b[A\n",
      "Train step of epoch 0:  32%|███▏      | 81/250 [01:12<02:31,  1.11it/s, loss=0.37] \u001b[A\n",
      "Train step of epoch 0:  33%|███▎      | 82/250 [01:13<02:30,  1.12it/s, loss=0.37]\u001b[A\n",
      "Train step of epoch 0:  33%|███▎      | 82/250 [01:13<02:30,  1.12it/s, loss=0.93]\u001b[A\n",
      "Train step of epoch 0:  33%|███▎      | 83/250 [01:14<02:29,  1.12it/s, loss=0.93]\u001b[A\n",
      "Train step of epoch 0:  33%|███▎      | 83/250 [01:14<02:29,  1.12it/s, loss=0.544]\u001b[A\n",
      "Train step of epoch 0:  34%|███▎      | 84/250 [01:15<02:28,  1.12it/s, loss=0.544]\u001b[A\n",
      "Train step of epoch 0:  34%|███▎      | 84/250 [01:15<02:28,  1.12it/s, loss=0.612]\u001b[A\n",
      "Train step of epoch 0:  34%|███▍      | 85/250 [01:16<02:27,  1.12it/s, loss=0.612]\u001b[A\n",
      "Train step of epoch 0:  34%|███▍      | 85/250 [01:16<02:27,  1.12it/s, loss=0.665]\u001b[A\n",
      "Train step of epoch 0:  34%|███▍      | 86/250 [01:17<02:26,  1.12it/s, loss=0.665]\u001b[A\n",
      "Train step of epoch 0:  34%|███▍      | 86/250 [01:17<02:26,  1.12it/s, loss=0.572]\u001b[A\n",
      "Train step of epoch 0:  35%|███▍      | 87/250 [01:18<02:25,  1.12it/s, loss=0.572]\u001b[A\n",
      "Train step of epoch 0:  35%|███▍      | 87/250 [01:18<02:25,  1.12it/s, loss=0.551]\u001b[A\n",
      "Train step of epoch 0:  35%|███▌      | 88/250 [01:19<02:24,  1.12it/s, loss=0.551]\u001b[A\n",
      "Train step of epoch 0:  35%|███▌      | 88/250 [01:19<02:24,  1.12it/s, loss=0.801]\u001b[A\n",
      "Train step of epoch 0:  36%|███▌      | 89/250 [01:19<02:23,  1.12it/s, loss=0.801]\u001b[A\n",
      "Train step of epoch 0:  36%|███▌      | 89/250 [01:19<02:23,  1.12it/s, loss=0.75] \u001b[A\n",
      "Train step of epoch 0:  36%|███▌      | 90/250 [01:20<02:22,  1.12it/s, loss=0.75]\u001b[A\n",
      "Train step of epoch 0:  36%|███▌      | 90/250 [01:20<02:22,  1.12it/s, loss=0.633]\u001b[A\n",
      "Train step of epoch 0:  36%|███▋      | 91/250 [01:21<02:21,  1.12it/s, loss=0.633]\u001b[A\n",
      "Train step of epoch 0:  36%|███▋      | 91/250 [01:21<02:21,  1.12it/s, loss=0.625]\u001b[A\n",
      "Train step of epoch 0:  37%|███▋      | 92/250 [01:22<02:20,  1.13it/s, loss=0.625]\u001b[A\n",
      "Train step of epoch 0:  37%|███▋      | 92/250 [01:22<02:20,  1.13it/s, loss=0.675]\u001b[A\n",
      "Train step of epoch 0:  37%|███▋      | 93/250 [01:23<02:19,  1.13it/s, loss=0.675]\u001b[A\n",
      "Train step of epoch 0:  37%|███▋      | 93/250 [01:23<02:19,  1.13it/s, loss=0.841]\u001b[A\n",
      "Train step of epoch 0:  38%|███▊      | 94/250 [01:24<02:18,  1.13it/s, loss=0.841]\u001b[A\n",
      "Train step of epoch 0:  38%|███▊      | 94/250 [01:24<02:18,  1.13it/s, loss=0.725]\u001b[A\n",
      "Train step of epoch 0:  38%|███▊      | 95/250 [01:25<02:17,  1.13it/s, loss=0.725]\u001b[A\n",
      "Train step of epoch 0:  38%|███▊      | 95/250 [01:25<02:17,  1.13it/s, loss=0.454]\u001b[A\n",
      "Train step of epoch 0:  38%|███▊      | 96/250 [01:26<02:16,  1.13it/s, loss=0.454]\u001b[A\n",
      "Train step of epoch 0:  38%|███▊      | 96/250 [01:26<02:16,  1.13it/s, loss=0.731]\u001b[A\n",
      "Train step of epoch 0:  39%|███▉      | 97/250 [01:27<02:15,  1.13it/s, loss=0.731]\u001b[A\n",
      "Train step of epoch 0:  39%|███▉      | 97/250 [01:27<02:15,  1.13it/s, loss=0.755]\u001b[A\n",
      "Train step of epoch 0:  39%|███▉      | 98/250 [01:27<02:15,  1.13it/s, loss=0.755]\u001b[A\n",
      "Train step of epoch 0:  39%|███▉      | 98/250 [01:27<02:15,  1.13it/s, loss=0.765]\u001b[A\n",
      "Train step of epoch 0:  40%|███▉      | 99/250 [01:28<02:14,  1.13it/s, loss=0.765]\u001b[A\n",
      "Train step of epoch 0:  40%|███▉      | 99/250 [01:28<02:14,  1.13it/s, loss=0.593]\u001b[A\n",
      "Train step of epoch 0:  40%|████      | 100/250 [01:29<02:13,  1.13it/s, loss=0.593]\u001b[A\n",
      "Train step of epoch 0:  40%|████      | 100/250 [01:29<02:13,  1.13it/s, loss=0.624]\u001b[A\n",
      "Train step of epoch 0:  40%|████      | 101/250 [01:30<02:12,  1.13it/s, loss=0.624]\u001b[A\n",
      "Train step of epoch 0:  40%|████      | 101/250 [01:30<02:12,  1.13it/s, loss=0.712]\u001b[A\n",
      "Train step of epoch 0:  41%|████      | 102/250 [01:31<02:11,  1.13it/s, loss=0.712]\u001b[A\n",
      "Train step of epoch 0:  41%|████      | 102/250 [01:31<02:11,  1.13it/s, loss=0.667]\u001b[A\n",
      "Train step of epoch 0:  41%|████      | 103/250 [01:32<02:10,  1.13it/s, loss=0.667]\u001b[A\n",
      "Train step of epoch 0:  41%|████      | 103/250 [01:32<02:10,  1.13it/s, loss=0.767]\u001b[A\n",
      "Train step of epoch 0:  42%|████▏     | 104/250 [01:33<02:09,  1.13it/s, loss=0.767]\u001b[A\n",
      "Train step of epoch 0:  42%|████▏     | 104/250 [01:33<02:09,  1.13it/s, loss=0.77] \u001b[A\n",
      "Train step of epoch 0:  42%|████▏     | 105/250 [01:34<02:08,  1.13it/s, loss=0.77]\u001b[A\n",
      "Train step of epoch 0:  42%|████▏     | 105/250 [01:34<02:08,  1.13it/s, loss=0.673]\u001b[A\n",
      "Train step of epoch 0:  42%|████▏     | 106/250 [01:34<02:07,  1.13it/s, loss=0.673]\u001b[A\n",
      "Train step of epoch 0:  42%|████▏     | 106/250 [01:35<02:07,  1.13it/s, loss=0.668]\u001b[A\n",
      "Train step of epoch 0:  43%|████▎     | 107/250 [01:35<02:06,  1.13it/s, loss=0.668]\u001b[A\n",
      "Train step of epoch 0:  43%|████▎     | 107/250 [01:35<02:06,  1.13it/s, loss=0.775]\u001b[A\n",
      "Train step of epoch 0:  43%|████▎     | 108/250 [01:36<02:05,  1.13it/s, loss=0.775]\u001b[A\n",
      "Train step of epoch 0:  43%|████▎     | 108/250 [01:36<02:05,  1.13it/s, loss=0.663]\u001b[A\n",
      "Train step of epoch 0:  44%|████▎     | 109/250 [01:37<02:04,  1.13it/s, loss=0.663]\u001b[A\n",
      "Train step of epoch 0:  44%|████▎     | 109/250 [01:37<02:04,  1.13it/s, loss=0.731]\u001b[A\n",
      "Train step of epoch 0:  44%|████▍     | 110/250 [01:38<02:03,  1.13it/s, loss=0.731]\u001b[A\n",
      "Train step of epoch 0:  44%|████▍     | 110/250 [01:38<02:03,  1.13it/s, loss=0.761]\u001b[A\n",
      "Train step of epoch 0:  44%|████▍     | 111/250 [01:39<02:03,  1.13it/s, loss=0.761]\u001b[A\n",
      "Train step of epoch 0:  44%|████▍     | 111/250 [01:39<02:03,  1.13it/s, loss=0.594]\u001b[A\n",
      "Train step of epoch 0:  45%|████▍     | 112/250 [01:40<02:02,  1.13it/s, loss=0.594]\u001b[A\n",
      "Train step of epoch 0:  45%|████▍     | 112/250 [01:40<02:02,  1.13it/s, loss=0.666]\u001b[A\n",
      "Train step of epoch 0:  45%|████▌     | 113/250 [01:41<02:01,  1.13it/s, loss=0.666]\u001b[A\n",
      "Train step of epoch 0:  45%|████▌     | 113/250 [01:41<02:01,  1.13it/s, loss=0.73] \u001b[A\n",
      "Train step of epoch 0:  46%|████▌     | 114/250 [01:42<02:00,  1.13it/s, loss=0.73]\u001b[A\n",
      "Train step of epoch 0:  46%|████▌     | 114/250 [01:42<02:00,  1.13it/s, loss=0.781]\u001b[A\n",
      "Train step of epoch 0:  46%|████▌     | 115/250 [01:42<01:59,  1.13it/s, loss=0.781]\u001b[A\n",
      "Train step of epoch 0:  46%|████▌     | 115/250 [01:42<01:59,  1.13it/s, loss=0.663]\u001b[A\n",
      "Train step of epoch 0:  46%|████▋     | 116/250 [01:43<01:58,  1.13it/s, loss=0.663]\u001b[A\n",
      "Train step of epoch 0:  46%|████▋     | 116/250 [01:43<01:58,  1.13it/s, loss=0.623]\u001b[A\n",
      "Train step of epoch 0:  47%|████▋     | 117/250 [01:44<01:58,  1.13it/s, loss=0.623]\u001b[A\n",
      "Train step of epoch 0:  47%|████▋     | 117/250 [01:44<01:58,  1.13it/s, loss=0.567]\u001b[A\n",
      "Train step of epoch 0:  47%|████▋     | 118/250 [01:45<01:57,  1.13it/s, loss=0.567]\u001b[A\n",
      "Train step of epoch 0:  47%|████▋     | 118/250 [01:45<01:57,  1.13it/s, loss=0.56] \u001b[A\n",
      "Train step of epoch 0:  48%|████▊     | 119/250 [01:46<01:56,  1.13it/s, loss=0.56]\u001b[A\n",
      "Train step of epoch 0:  48%|████▊     | 119/250 [01:46<01:56,  1.13it/s, loss=0.591]\u001b[A\n",
      "Train step of epoch 0:  48%|████▊     | 120/250 [01:47<01:55,  1.13it/s, loss=0.591]\u001b[A\n",
      "Train step of epoch 0:  48%|████▊     | 120/250 [01:47<01:55,  1.13it/s, loss=1.01] \u001b[A\n",
      "Train step of epoch 0:  48%|████▊     | 121/250 [01:48<01:54,  1.13it/s, loss=1.01]\u001b[A\n",
      "Train step of epoch 0:  48%|████▊     | 121/250 [01:48<01:54,  1.13it/s, loss=0.767]\u001b[A\n",
      "Train step of epoch 0:  49%|████▉     | 122/250 [01:49<01:53,  1.13it/s, loss=0.767]\u001b[A\n",
      "Train step of epoch 0:  49%|████▉     | 122/250 [01:49<01:53,  1.13it/s, loss=0.669]\u001b[A\n",
      "Train step of epoch 0:  49%|████▉     | 123/250 [01:50<01:52,  1.13it/s, loss=0.669]\u001b[A\n",
      "Train step of epoch 0:  49%|████▉     | 123/250 [01:50<01:52,  1.13it/s, loss=0.601]\u001b[A\n",
      "Train step of epoch 0:  50%|████▉     | 124/250 [01:50<01:52,  1.12it/s, loss=0.601]\u001b[A\n",
      "Train step of epoch 0:  50%|████▉     | 124/250 [01:50<01:52,  1.12it/s, loss=0.707]\u001b[A\n",
      "Train step of epoch 0:  50%|█████     | 125/250 [01:51<01:51,  1.12it/s, loss=0.707]\u001b[A\n",
      "Train step of epoch 0:  50%|█████     | 125/250 [01:51<01:51,  1.12it/s, loss=0.665]\u001b[A\n",
      "Train step of epoch 0:  50%|█████     | 126/250 [01:52<01:50,  1.12it/s, loss=0.665]\u001b[A\n",
      "Train step of epoch 0:  50%|█████     | 126/250 [01:52<01:50,  1.12it/s, loss=0.702]\u001b[A\n",
      "Train step of epoch 0:  51%|█████     | 127/250 [01:53<01:49,  1.12it/s, loss=0.702]\u001b[A\n",
      "Train step of epoch 0:  51%|█████     | 127/250 [01:53<01:49,  1.12it/s, loss=0.624]\u001b[A\n",
      "Train step of epoch 0:  51%|█████     | 128/250 [01:54<01:48,  1.12it/s, loss=0.624]\u001b[A\n",
      "Train step of epoch 0:  51%|█████     | 128/250 [01:54<01:48,  1.12it/s, loss=0.634]\u001b[A\n",
      "Train step of epoch 0:  52%|█████▏    | 129/250 [01:55<01:47,  1.12it/s, loss=0.634]\u001b[A\n",
      "Train step of epoch 0:  52%|█████▏    | 129/250 [01:55<01:47,  1.12it/s, loss=0.631]\u001b[A\n",
      "Train step of epoch 0:  52%|█████▏    | 130/250 [01:56<01:46,  1.12it/s, loss=0.631]\u001b[A\n",
      "Train step of epoch 0:  52%|█████▏    | 130/250 [01:56<01:46,  1.12it/s, loss=0.599]\u001b[A\n",
      "Train step of epoch 0:  52%|█████▏    | 131/250 [01:57<01:45,  1.12it/s, loss=0.599]\u001b[A\n",
      "Train step of epoch 0:  52%|█████▏    | 131/250 [01:57<01:45,  1.12it/s, loss=0.83] \u001b[A\n",
      "Train step of epoch 0:  53%|█████▎    | 132/250 [01:58<01:44,  1.12it/s, loss=0.83]\u001b[A\n",
      "Train step of epoch 0:  53%|█████▎    | 132/250 [01:58<01:44,  1.12it/s, loss=0.66]\u001b[A\n",
      "Train step of epoch 0:  53%|█████▎    | 133/250 [01:58<01:44,  1.12it/s, loss=0.66]\u001b[A\n",
      "Train step of epoch 0:  53%|█████▎    | 133/250 [01:58<01:44,  1.12it/s, loss=0.735]\u001b[A\n",
      "Train step of epoch 0:  54%|█████▎    | 134/250 [01:59<01:43,  1.12it/s, loss=0.735]\u001b[A\n",
      "Train step of epoch 0:  54%|█████▎    | 134/250 [01:59<01:43,  1.12it/s, loss=0.736]\u001b[A\n",
      "Train step of epoch 0:  54%|█████▍    | 135/250 [02:00<01:42,  1.12it/s, loss=0.736]\u001b[A\n",
      "Train step of epoch 0:  54%|█████▍    | 135/250 [02:00<01:42,  1.12it/s, loss=0.655]\u001b[A\n",
      "Train step of epoch 0:  54%|█████▍    | 136/250 [02:01<01:41,  1.12it/s, loss=0.655]\u001b[A\n",
      "Train step of epoch 0:  54%|█████▍    | 136/250 [02:01<01:41,  1.12it/s, loss=0.65] \u001b[A\n",
      "Train step of epoch 0:  55%|█████▍    | 137/250 [02:02<01:40,  1.12it/s, loss=0.65]\u001b[A\n",
      "Train step of epoch 0:  55%|█████▍    | 137/250 [02:02<01:40,  1.12it/s, loss=0.566]\u001b[A\n",
      "Train step of epoch 0:  55%|█████▌    | 138/250 [02:03<01:40,  1.12it/s, loss=0.566]\u001b[A\n",
      "Train step of epoch 0:  55%|█████▌    | 138/250 [02:03<01:40,  1.12it/s, loss=0.634]\u001b[A\n",
      "Train step of epoch 0:  56%|█████▌    | 139/250 [02:04<01:39,  1.12it/s, loss=0.634]\u001b[A\n",
      "Train step of epoch 0:  56%|█████▌    | 139/250 [02:04<01:39,  1.12it/s, loss=0.532]\u001b[A\n",
      "Train step of epoch 0:  56%|█████▌    | 140/250 [02:05<01:38,  1.12it/s, loss=0.532]\u001b[A\n",
      "Train step of epoch 0:  56%|█████▌    | 140/250 [02:05<01:38,  1.12it/s, loss=0.528]\u001b[A\n",
      "Train step of epoch 0:  56%|█████▋    | 141/250 [02:06<01:37,  1.12it/s, loss=0.528]\u001b[A\n",
      "Train step of epoch 0:  56%|█████▋    | 141/250 [02:06<01:37,  1.12it/s, loss=0.657]\u001b[A\n",
      "Train step of epoch 0:  57%|█████▋    | 142/250 [02:07<01:36,  1.12it/s, loss=0.657]\u001b[A\n",
      "Train step of epoch 0:  57%|█████▋    | 142/250 [02:07<01:36,  1.12it/s, loss=0.801]\u001b[A\n",
      "Train step of epoch 0:  57%|█████▋    | 143/250 [02:07<01:35,  1.12it/s, loss=0.801]\u001b[A\n",
      "Train step of epoch 0:  57%|█████▋    | 143/250 [02:07<01:35,  1.12it/s, loss=0.556]\u001b[A\n",
      "Train step of epoch 0:  58%|█████▊    | 144/250 [02:08<01:34,  1.12it/s, loss=0.556]\u001b[A\n",
      "Train step of epoch 0:  58%|█████▊    | 144/250 [02:08<01:34,  1.12it/s, loss=0.48] \u001b[A\n",
      "Train step of epoch 0:  58%|█████▊    | 145/250 [02:09<01:34,  1.12it/s, loss=0.48]\u001b[A\n",
      "Train step of epoch 0:  58%|█████▊    | 145/250 [02:09<01:34,  1.12it/s, loss=0.651]\u001b[A\n",
      "Train step of epoch 0:  58%|█████▊    | 146/250 [02:10<01:33,  1.12it/s, loss=0.651]\u001b[A\n",
      "Train step of epoch 0:  58%|█████▊    | 146/250 [02:10<01:33,  1.12it/s, loss=0.729]\u001b[A\n",
      "Train step of epoch 0:  59%|█████▉    | 147/250 [02:11<01:32,  1.12it/s, loss=0.729]\u001b[A\n",
      "Train step of epoch 0:  59%|█████▉    | 147/250 [02:11<01:32,  1.12it/s, loss=0.33] \u001b[A\n",
      "Train step of epoch 0:  59%|█████▉    | 148/250 [02:12<01:31,  1.11it/s, loss=0.33]\u001b[A\n",
      "Train step of epoch 0:  59%|█████▉    | 148/250 [02:12<01:31,  1.11it/s, loss=0.69]\u001b[A\n",
      "Train step of epoch 0:  60%|█████▉    | 149/250 [02:13<01:30,  1.11it/s, loss=0.69]\u001b[A\n",
      "Train step of epoch 0:  60%|█████▉    | 149/250 [02:13<01:30,  1.11it/s, loss=0.688]\u001b[A\n",
      "Train step of epoch 0:  60%|██████    | 150/250 [02:14<01:29,  1.11it/s, loss=0.688]\u001b[A\n",
      "Train step of epoch 0:  60%|██████    | 150/250 [02:14<01:29,  1.11it/s, loss=0.539]\u001b[A\n",
      "Train step of epoch 0:  60%|██████    | 151/250 [02:15<01:29,  1.11it/s, loss=0.539]\u001b[A\n",
      "Train step of epoch 0:  60%|██████    | 151/250 [02:15<01:29,  1.11it/s, loss=0.324]\u001b[A\n",
      "Train step of epoch 0:  61%|██████    | 152/250 [02:15<01:28,  1.11it/s, loss=0.324]\u001b[A\n",
      "Train step of epoch 0:  61%|██████    | 152/250 [02:16<01:28,  1.11it/s, loss=0.547]\u001b[A\n",
      "Train step of epoch 0:  61%|██████    | 153/250 [02:16<01:27,  1.11it/s, loss=0.547]\u001b[A\n",
      "Train step of epoch 0:  61%|██████    | 153/250 [02:16<01:27,  1.11it/s, loss=0.668]\u001b[A\n",
      "Train step of epoch 0:  62%|██████▏   | 154/250 [02:17<01:26,  1.11it/s, loss=0.668]\u001b[A\n",
      "Train step of epoch 0:  62%|██████▏   | 154/250 [02:17<01:26,  1.11it/s, loss=1.13] \u001b[A\n",
      "Train step of epoch 0:  62%|██████▏   | 155/250 [02:18<01:25,  1.11it/s, loss=1.13]\u001b[A\n",
      "Train step of epoch 0:  62%|██████▏   | 155/250 [02:18<01:25,  1.11it/s, loss=0.882]\u001b[A\n",
      "Train step of epoch 0:  62%|██████▏   | 156/250 [02:19<01:24,  1.11it/s, loss=0.882]\u001b[A\n",
      "Train step of epoch 0:  62%|██████▏   | 156/250 [02:19<01:24,  1.11it/s, loss=0.487]\u001b[A\n",
      "Train step of epoch 0:  63%|██████▎   | 157/250 [02:20<01:23,  1.11it/s, loss=0.487]\u001b[A\n",
      "Train step of epoch 0:  63%|██████▎   | 157/250 [02:20<01:23,  1.11it/s, loss=0.503]\u001b[A\n",
      "Train step of epoch 0:  63%|██████▎   | 158/250 [02:21<01:22,  1.11it/s, loss=0.503]\u001b[A\n",
      "Train step of epoch 0:  63%|██████▎   | 158/250 [02:21<01:22,  1.11it/s, loss=0.743]\u001b[A\n",
      "Train step of epoch 0:  64%|██████▎   | 159/250 [02:22<01:21,  1.11it/s, loss=0.743]\u001b[A\n",
      "Train step of epoch 0:  64%|██████▎   | 159/250 [02:22<01:21,  1.11it/s, loss=0.679]\u001b[A\n",
      "Train step of epoch 0:  64%|██████▍   | 160/250 [02:23<01:20,  1.11it/s, loss=0.679]\u001b[A\n",
      "Train step of epoch 0:  64%|██████▍   | 160/250 [02:23<01:20,  1.11it/s, loss=0.383]\u001b[A\n",
      "Train step of epoch 0:  64%|██████▍   | 161/250 [02:24<01:19,  1.11it/s, loss=0.383]\u001b[A\n",
      "Train step of epoch 0:  64%|██████▍   | 161/250 [02:24<01:19,  1.11it/s, loss=0.684]\u001b[A\n",
      "Train step of epoch 0:  65%|██████▍   | 162/250 [02:24<01:18,  1.11it/s, loss=0.684]\u001b[A\n",
      "Train step of epoch 0:  65%|██████▍   | 162/250 [02:24<01:18,  1.11it/s, loss=0.482]\u001b[A\n",
      "Train step of epoch 0:  65%|██████▌   | 163/250 [02:25<01:18,  1.11it/s, loss=0.482]\u001b[A\n",
      "Train step of epoch 0:  65%|██████▌   | 163/250 [02:25<01:18,  1.11it/s, loss=0.369]\u001b[A\n",
      "Train step of epoch 0:  66%|██████▌   | 164/250 [02:26<01:17,  1.11it/s, loss=0.369]\u001b[A\n",
      "Train step of epoch 0:  66%|██████▌   | 164/250 [02:26<01:17,  1.11it/s, loss=0.559]\u001b[A\n",
      "Train step of epoch 0:  66%|██████▌   | 165/250 [02:27<01:16,  1.11it/s, loss=0.559]\u001b[A\n",
      "Train step of epoch 0:  66%|██████▌   | 165/250 [02:27<01:16,  1.11it/s, loss=1.02] \u001b[A\n",
      "Train step of epoch 0:  66%|██████▋   | 166/250 [02:28<01:15,  1.11it/s, loss=1.02]\u001b[A\n",
      "Train step of epoch 0:  66%|██████▋   | 166/250 [02:28<01:15,  1.11it/s, loss=0.292]\u001b[A\n",
      "Train step of epoch 0:  67%|██████▋   | 167/250 [02:29<01:14,  1.11it/s, loss=0.292]\u001b[A\n",
      "Train step of epoch 0:  67%|██████▋   | 167/250 [02:29<01:14,  1.11it/s, loss=0.43] \u001b[A\n",
      "Train step of epoch 0:  67%|██████▋   | 168/250 [02:30<01:13,  1.12it/s, loss=0.43]\u001b[A\n",
      "Train step of epoch 0:  67%|██████▋   | 168/250 [02:30<01:13,  1.12it/s, loss=0.56]\u001b[A\n",
      "Train step of epoch 0:  68%|██████▊   | 169/250 [02:31<01:12,  1.11it/s, loss=0.56]\u001b[A\n",
      "Train step of epoch 0:  68%|██████▊   | 169/250 [02:31<01:12,  1.11it/s, loss=0.461]\u001b[A\n",
      "Train step of epoch 0:  68%|██████▊   | 170/250 [02:32<01:11,  1.12it/s, loss=0.461]\u001b[A\n",
      "Train step of epoch 0:  68%|██████▊   | 170/250 [02:32<01:11,  1.12it/s, loss=0.979]\u001b[A\n",
      "Train step of epoch 0:  68%|██████▊   | 171/250 [02:33<01:10,  1.12it/s, loss=0.979]\u001b[A\n",
      "Train step of epoch 0:  68%|██████▊   | 171/250 [02:33<01:10,  1.12it/s, loss=0.597]\u001b[A\n",
      "Train step of epoch 0:  69%|██████▉   | 172/250 [02:33<01:09,  1.12it/s, loss=0.597]\u001b[A\n",
      "Train step of epoch 0:  69%|██████▉   | 172/250 [02:33<01:09,  1.12it/s, loss=1.01] \u001b[A\n",
      "Train step of epoch 0:  69%|██████▉   | 173/250 [02:34<01:09,  1.12it/s, loss=1.01]\u001b[A\n",
      "Train step of epoch 0:  69%|██████▉   | 173/250 [02:34<01:09,  1.12it/s, loss=0.494]\u001b[A\n",
      "Train step of epoch 0:  70%|██████▉   | 174/250 [02:35<01:08,  1.12it/s, loss=0.494]\u001b[A\n",
      "Train step of epoch 0:  70%|██████▉   | 174/250 [02:35<01:08,  1.12it/s, loss=0.35] \u001b[A\n",
      "Train step of epoch 0:  70%|███████   | 175/250 [02:36<01:07,  1.12it/s, loss=0.35]\u001b[A\n",
      "Train step of epoch 0:  70%|███████   | 175/250 [02:36<01:07,  1.12it/s, loss=0.584]\u001b[A\n",
      "Train step of epoch 0:  70%|███████   | 176/250 [02:37<01:06,  1.12it/s, loss=0.584]\u001b[A\n",
      "Train step of epoch 0:  70%|███████   | 176/250 [02:37<01:06,  1.12it/s, loss=0.517]\u001b[A\n",
      "Train step of epoch 0:  71%|███████   | 177/250 [02:38<01:05,  1.12it/s, loss=0.517]\u001b[A\n",
      "Train step of epoch 0:  71%|███████   | 177/250 [02:38<01:05,  1.12it/s, loss=0.366]\u001b[A\n",
      "Train step of epoch 0:  71%|███████   | 178/250 [02:39<01:04,  1.12it/s, loss=0.366]\u001b[A\n",
      "Train step of epoch 0:  71%|███████   | 178/250 [02:39<01:04,  1.12it/s, loss=0.397]\u001b[A\n",
      "Train step of epoch 0:  72%|███████▏  | 179/250 [02:40<01:03,  1.12it/s, loss=0.397]\u001b[A\n",
      "Train step of epoch 0:  72%|███████▏  | 179/250 [02:40<01:03,  1.12it/s, loss=0.556]\u001b[A\n",
      "Train step of epoch 0:  72%|███████▏  | 180/250 [02:41<01:02,  1.12it/s, loss=0.556]\u001b[A\n",
      "Train step of epoch 0:  72%|███████▏  | 180/250 [02:41<01:02,  1.12it/s, loss=0.619]\u001b[A\n",
      "Train step of epoch 0:  72%|███████▏  | 181/250 [02:41<01:01,  1.12it/s, loss=0.619]\u001b[A\n",
      "Train step of epoch 0:  72%|███████▏  | 181/250 [02:42<01:01,  1.12it/s, loss=0.287]\u001b[A\n",
      "Train step of epoch 0:  73%|███████▎  | 182/250 [02:42<01:00,  1.12it/s, loss=0.287]\u001b[A\n",
      "Train step of epoch 0:  73%|███████▎  | 182/250 [02:42<01:00,  1.12it/s, loss=1.06] \u001b[A\n",
      "Train step of epoch 0:  73%|███████▎  | 183/250 [02:43<00:59,  1.12it/s, loss=1.06]\u001b[A\n",
      "Train step of epoch 0:  73%|███████▎  | 183/250 [02:43<00:59,  1.12it/s, loss=1.23]\u001b[A\n",
      "Train step of epoch 0:  74%|███████▎  | 184/250 [02:44<00:59,  1.12it/s, loss=1.23]\u001b[A\n",
      "Train step of epoch 0:  74%|███████▎  | 184/250 [02:44<00:59,  1.12it/s, loss=0.782]\u001b[A\n",
      "Train step of epoch 0:  74%|███████▍  | 185/250 [02:45<00:58,  1.12it/s, loss=0.782]\u001b[A\n",
      "Train step of epoch 0:  74%|███████▍  | 185/250 [02:45<00:58,  1.12it/s, loss=0.467]\u001b[A\n",
      "Train step of epoch 0:  74%|███████▍  | 186/250 [02:46<00:57,  1.12it/s, loss=0.467]\u001b[A\n",
      "Train step of epoch 0:  74%|███████▍  | 186/250 [02:46<00:57,  1.12it/s, loss=0.375]\u001b[A\n",
      "Train step of epoch 0:  75%|███████▍  | 187/250 [02:47<00:56,  1.12it/s, loss=0.375]\u001b[A\n",
      "Train step of epoch 0:  75%|███████▍  | 187/250 [02:47<00:56,  1.12it/s, loss=0.356]\u001b[A\n",
      "Train step of epoch 0:  75%|███████▌  | 188/250 [02:48<00:55,  1.12it/s, loss=0.356]\u001b[A\n",
      "Train step of epoch 0:  75%|███████▌  | 188/250 [02:48<00:55,  1.12it/s, loss=0.634]\u001b[A\n",
      "Train step of epoch 0:  76%|███████▌  | 189/250 [02:49<00:54,  1.12it/s, loss=0.634]\u001b[A\n",
      "Train step of epoch 0:  76%|███████▌  | 189/250 [02:49<00:54,  1.12it/s, loss=0.906]\u001b[A\n",
      "Train step of epoch 0:  76%|███████▌  | 190/250 [02:50<00:53,  1.12it/s, loss=0.906]\u001b[A\n",
      "Train step of epoch 0:  76%|███████▌  | 190/250 [02:50<00:53,  1.12it/s, loss=0.397]\u001b[A\n",
      "Train step of epoch 0:  76%|███████▋  | 191/250 [02:50<00:52,  1.12it/s, loss=0.397]\u001b[A\n",
      "Train step of epoch 0:  76%|███████▋  | 191/250 [02:50<00:52,  1.12it/s, loss=0.292]\u001b[A\n",
      "Train step of epoch 0:  77%|███████▋  | 192/250 [02:51<00:51,  1.12it/s, loss=0.292]\u001b[A\n",
      "Train step of epoch 0:  77%|███████▋  | 192/250 [02:51<00:51,  1.12it/s, loss=0.564]\u001b[A\n",
      "Train step of epoch 0:  77%|███████▋  | 193/250 [02:52<00:50,  1.12it/s, loss=0.564]\u001b[A\n",
      "Train step of epoch 0:  77%|███████▋  | 193/250 [02:52<00:50,  1.12it/s, loss=0.855]\u001b[A\n",
      "Train step of epoch 0:  78%|███████▊  | 194/250 [02:53<00:50,  1.12it/s, loss=0.855]\u001b[A\n",
      "Train step of epoch 0:  78%|███████▊  | 194/250 [02:53<00:50,  1.12it/s, loss=0.666]\u001b[A\n",
      "Train step of epoch 0:  78%|███████▊  | 195/250 [02:54<00:49,  1.12it/s, loss=0.666]\u001b[A\n",
      "Train step of epoch 0:  78%|███████▊  | 195/250 [02:54<00:49,  1.12it/s, loss=0.371]\u001b[A\n",
      "Train step of epoch 0:  78%|███████▊  | 196/250 [02:55<00:48,  1.12it/s, loss=0.371]\u001b[A\n",
      "Train step of epoch 0:  78%|███████▊  | 196/250 [02:55<00:48,  1.12it/s, loss=0.905]\u001b[A\n",
      "Train step of epoch 0:  79%|███████▉  | 197/250 [02:56<00:47,  1.12it/s, loss=0.905]\u001b[A\n",
      "Train step of epoch 0:  79%|███████▉  | 197/250 [02:56<00:47,  1.12it/s, loss=0.624]\u001b[A\n",
      "Train step of epoch 0:  79%|███████▉  | 198/250 [02:57<00:46,  1.12it/s, loss=0.624]\u001b[A\n",
      "Train step of epoch 0:  79%|███████▉  | 198/250 [02:57<00:46,  1.12it/s, loss=0.576]\u001b[A\n",
      "Train step of epoch 0:  80%|███████▉  | 199/250 [02:58<00:45,  1.12it/s, loss=0.576]\u001b[A\n",
      "Train step of epoch 0:  80%|███████▉  | 199/250 [02:58<00:45,  1.12it/s, loss=0.399]\u001b[A\n",
      "Train step of epoch 0:  80%|████████  | 200/250 [02:58<00:44,  1.12it/s, loss=0.399]\u001b[A\n",
      "Train step of epoch 0:  80%|████████  | 200/250 [02:58<00:44,  1.12it/s, loss=0.398]\u001b[A\n",
      "Train step of epoch 0:  80%|████████  | 201/250 [02:59<00:43,  1.12it/s, loss=0.398]\u001b[A\n",
      "Train step of epoch 0:  80%|████████  | 201/250 [02:59<00:43,  1.12it/s, loss=0.451]\u001b[A\n",
      "Train step of epoch 0:  81%|████████  | 202/250 [03:00<00:42,  1.12it/s, loss=0.451]\u001b[A\n",
      "Train step of epoch 0:  81%|████████  | 202/250 [03:00<00:42,  1.12it/s, loss=0.911]\u001b[A\n",
      "Train step of epoch 0:  81%|████████  | 203/250 [03:01<00:41,  1.12it/s, loss=0.911]\u001b[A\n",
      "Train step of epoch 0:  81%|████████  | 203/250 [03:01<00:41,  1.12it/s, loss=0.623]\u001b[A\n",
      "Train step of epoch 0:  82%|████████▏ | 204/250 [03:02<00:40,  1.12it/s, loss=0.623]\u001b[A\n",
      "Train step of epoch 0:  82%|████████▏ | 204/250 [03:02<00:40,  1.12it/s, loss=0.505]\u001b[A\n",
      "Train step of epoch 0:  82%|████████▏ | 205/250 [03:03<00:40,  1.12it/s, loss=0.505]\u001b[A\n",
      "Train step of epoch 0:  82%|████████▏ | 205/250 [03:03<00:40,  1.12it/s, loss=0.599]\u001b[A\n",
      "Train step of epoch 0:  82%|████████▏ | 206/250 [03:04<00:39,  1.12it/s, loss=0.599]\u001b[A\n",
      "Train step of epoch 0:  82%|████████▏ | 206/250 [03:04<00:39,  1.12it/s, loss=0.823]\u001b[A\n",
      "Train step of epoch 0:  83%|████████▎ | 207/250 [03:05<00:38,  1.12it/s, loss=0.823]\u001b[A\n",
      "Train step of epoch 0:  83%|████████▎ | 207/250 [03:05<00:38,  1.12it/s, loss=0.521]\u001b[A\n",
      "Train step of epoch 0:  83%|████████▎ | 208/250 [03:06<00:37,  1.12it/s, loss=0.521]\u001b[A\n",
      "Train step of epoch 0:  83%|████████▎ | 208/250 [03:06<00:37,  1.12it/s, loss=0.667]\u001b[A\n",
      "Train step of epoch 0:  84%|████████▎ | 209/250 [03:06<00:36,  1.12it/s, loss=0.667]\u001b[A\n",
      "Train step of epoch 0:  84%|████████▎ | 209/250 [03:06<00:36,  1.12it/s, loss=0.693]\u001b[A\n",
      "Train step of epoch 0:  84%|████████▍ | 210/250 [03:07<00:35,  1.12it/s, loss=0.693]\u001b[A\n",
      "Train step of epoch 0:  84%|████████▍ | 210/250 [03:07<00:35,  1.12it/s, loss=0.717]\u001b[A\n",
      "Train step of epoch 0:  84%|████████▍ | 211/250 [03:08<00:34,  1.12it/s, loss=0.717]\u001b[A\n",
      "Train step of epoch 0:  84%|████████▍ | 211/250 [03:08<00:34,  1.12it/s, loss=0.439]\u001b[A\n",
      "Train step of epoch 0:  85%|████████▍ | 212/250 [03:09<00:33,  1.12it/s, loss=0.439]\u001b[A\n",
      "Train step of epoch 0:  85%|████████▍ | 212/250 [03:09<00:33,  1.12it/s, loss=0.544]\u001b[A\n",
      "Train step of epoch 0:  85%|████████▌ | 213/250 [03:10<00:32,  1.12it/s, loss=0.544]\u001b[A\n",
      "Train step of epoch 0:  85%|████████▌ | 213/250 [03:10<00:32,  1.12it/s, loss=0.42] \u001b[A\n",
      "Train step of epoch 0:  86%|████████▌ | 214/250 [03:11<00:32,  1.12it/s, loss=0.42]\u001b[A\n",
      "Train step of epoch 0:  86%|████████▌ | 214/250 [03:11<00:32,  1.12it/s, loss=1.17]\u001b[A\n",
      "Train step of epoch 0:  86%|████████▌ | 215/250 [03:12<00:31,  1.13it/s, loss=1.17]\u001b[A\n",
      "Train step of epoch 0:  86%|████████▌ | 215/250 [03:12<00:31,  1.13it/s, loss=0.504]\u001b[A\n",
      "Train step of epoch 0:  86%|████████▋ | 216/250 [03:13<00:30,  1.12it/s, loss=0.504]\u001b[A\n",
      "Train step of epoch 0:  86%|████████▋ | 216/250 [03:13<00:30,  1.12it/s, loss=0.82] \u001b[A\n",
      "Train step of epoch 0:  87%|████████▋ | 217/250 [03:14<00:29,  1.12it/s, loss=0.82]\u001b[A\n",
      "Train step of epoch 0:  87%|████████▋ | 217/250 [03:14<00:29,  1.12it/s, loss=0.793]\u001b[A\n",
      "Train step of epoch 0:  87%|████████▋ | 218/250 [03:14<00:28,  1.12it/s, loss=0.793]\u001b[A\n",
      "Train step of epoch 0:  87%|████████▋ | 218/250 [03:14<00:28,  1.12it/s, loss=0.594]\u001b[A\n",
      "Train step of epoch 0:  88%|████████▊ | 219/250 [03:15<00:27,  1.12it/s, loss=0.594]\u001b[A\n",
      "Train step of epoch 0:  88%|████████▊ | 219/250 [03:15<00:27,  1.12it/s, loss=0.367]\u001b[A\n",
      "Train step of epoch 0:  88%|████████▊ | 220/250 [03:16<00:26,  1.13it/s, loss=0.367]\u001b[A\n",
      "Train step of epoch 0:  88%|████████▊ | 220/250 [03:16<00:26,  1.13it/s, loss=0.624]\u001b[A\n",
      "Train step of epoch 0:  88%|████████▊ | 221/250 [03:17<00:25,  1.12it/s, loss=0.624]\u001b[A\n",
      "Train step of epoch 0:  88%|████████▊ | 221/250 [03:17<00:25,  1.12it/s, loss=0.645]\u001b[A\n",
      "Train step of epoch 0:  89%|████████▉ | 222/250 [03:18<00:24,  1.12it/s, loss=0.645]\u001b[A\n",
      "Train step of epoch 0:  89%|████████▉ | 222/250 [03:18<00:24,  1.12it/s, loss=0.326]\u001b[A\n",
      "Train step of epoch 0:  89%|████████▉ | 223/250 [03:19<00:24,  1.12it/s, loss=0.326]\u001b[A\n",
      "Train step of epoch 0:  89%|████████▉ | 223/250 [03:19<00:24,  1.12it/s, loss=0.7]  \u001b[A\n",
      "Train step of epoch 0:  90%|████████▉ | 224/250 [03:20<00:23,  1.12it/s, loss=0.7]\u001b[A\n",
      "Train step of epoch 0:  90%|████████▉ | 224/250 [03:20<00:23,  1.12it/s, loss=0.754]\u001b[A\n",
      "Train step of epoch 0:  90%|█████████ | 225/250 [03:21<00:22,  1.12it/s, loss=0.754]\u001b[A\n",
      "Train step of epoch 0:  90%|█████████ | 225/250 [03:21<00:22,  1.12it/s, loss=0.582]\u001b[A\n",
      "Train step of epoch 0:  90%|█████████ | 226/250 [03:22<00:21,  1.12it/s, loss=0.582]\u001b[A\n",
      "Train step of epoch 0:  90%|█████████ | 226/250 [03:22<00:21,  1.12it/s, loss=0.669]\u001b[A\n",
      "Train step of epoch 0:  91%|█████████ | 227/250 [03:22<00:20,  1.13it/s, loss=0.669]\u001b[A\n",
      "Train step of epoch 0:  91%|█████████ | 227/250 [03:23<00:20,  1.13it/s, loss=0.708]\u001b[A\n",
      "Train step of epoch 0:  91%|█████████ | 228/250 [03:23<00:19,  1.12it/s, loss=0.708]\u001b[A\n",
      "Train step of epoch 0:  91%|█████████ | 228/250 [03:23<00:19,  1.12it/s, loss=0.525]\u001b[A\n",
      "Train step of epoch 0:  92%|█████████▏| 229/250 [03:24<00:18,  1.12it/s, loss=0.525]\u001b[A\n",
      "Train step of epoch 0:  92%|█████████▏| 229/250 [03:24<00:18,  1.12it/s, loss=0.675]\u001b[A\n",
      "Train step of epoch 0:  92%|█████████▏| 230/250 [03:25<00:17,  1.12it/s, loss=0.675]\u001b[A\n",
      "Train step of epoch 0:  92%|█████████▏| 230/250 [03:25<00:17,  1.12it/s, loss=0.698]\u001b[A\n",
      "Train step of epoch 0:  92%|█████████▏| 231/250 [03:26<00:16,  1.12it/s, loss=0.698]\u001b[A\n",
      "Train step of epoch 0:  92%|█████████▏| 231/250 [03:26<00:16,  1.12it/s, loss=0.409]\u001b[A\n",
      "Train step of epoch 0:  93%|█████████▎| 232/250 [03:27<00:16,  1.12it/s, loss=0.409]\u001b[A\n",
      "Train step of epoch 0:  93%|█████████▎| 232/250 [03:27<00:16,  1.12it/s, loss=0.896]\u001b[A\n",
      "Train step of epoch 0:  93%|█████████▎| 233/250 [03:28<00:15,  1.12it/s, loss=0.896]\u001b[A\n",
      "Train step of epoch 0:  93%|█████████▎| 233/250 [03:28<00:15,  1.12it/s, loss=0.509]\u001b[A\n",
      "Train step of epoch 0:  94%|█████████▎| 234/250 [03:29<00:14,  1.12it/s, loss=0.509]\u001b[A\n",
      "Train step of epoch 0:  94%|█████████▎| 234/250 [03:29<00:14,  1.12it/s, loss=0.524]\u001b[A\n",
      "Train step of epoch 0:  94%|█████████▍| 235/250 [03:30<00:13,  1.12it/s, loss=0.524]\u001b[A\n",
      "Train step of epoch 0:  94%|█████████▍| 235/250 [03:30<00:13,  1.12it/s, loss=0.915]\u001b[A\n",
      "Train step of epoch 0:  94%|█████████▍| 236/250 [03:31<00:12,  1.12it/s, loss=0.915]\u001b[A\n",
      "Train step of epoch 0:  94%|█████████▍| 236/250 [03:31<00:12,  1.12it/s, loss=0.475]\u001b[A\n",
      "Train step of epoch 0:  95%|█████████▍| 237/250 [03:31<00:11,  1.12it/s, loss=0.475]\u001b[A\n",
      "Train step of epoch 0:  95%|█████████▍| 237/250 [03:31<00:11,  1.12it/s, loss=0.526]\u001b[A\n",
      "Train step of epoch 0:  95%|█████████▌| 238/250 [03:32<00:10,  1.12it/s, loss=0.526]\u001b[A\n",
      "Train step of epoch 0:  95%|█████████▌| 238/250 [03:32<00:10,  1.12it/s, loss=0.734]\u001b[A\n",
      "Train step of epoch 0:  96%|█████████▌| 239/250 [03:33<00:09,  1.12it/s, loss=0.734]\u001b[A\n",
      "Train step of epoch 0:  96%|█████████▌| 239/250 [03:33<00:09,  1.12it/s, loss=0.628]\u001b[A\n",
      "Train step of epoch 0:  96%|█████████▌| 240/250 [03:34<00:08,  1.12it/s, loss=0.628]\u001b[A\n",
      "Train step of epoch 0:  96%|█████████▌| 240/250 [03:34<00:08,  1.12it/s, loss=0.578]\u001b[A\n",
      "Train step of epoch 0:  96%|█████████▋| 241/250 [03:35<00:08,  1.12it/s, loss=0.578]\u001b[A\n",
      "Train step of epoch 0:  96%|█████████▋| 241/250 [03:35<00:08,  1.12it/s, loss=0.534]\u001b[A\n",
      "Train step of epoch 0:  97%|█████████▋| 242/250 [03:36<00:07,  1.12it/s, loss=0.534]\u001b[A\n",
      "Train step of epoch 0:  97%|█████████▋| 242/250 [03:36<00:07,  1.12it/s, loss=0.852]\u001b[A\n",
      "Train step of epoch 0:  97%|█████████▋| 243/250 [03:37<00:06,  1.12it/s, loss=0.852]\u001b[A\n",
      "Train step of epoch 0:  97%|█████████▋| 243/250 [03:37<00:06,  1.12it/s, loss=0.545]\u001b[A\n",
      "Train step of epoch 0:  98%|█████████▊| 244/250 [03:38<00:05,  1.12it/s, loss=0.545]\u001b[A\n",
      "Train step of epoch 0:  98%|█████████▊| 244/250 [03:38<00:05,  1.12it/s, loss=0.614]\u001b[A\n",
      "Train step of epoch 0:  98%|█████████▊| 245/250 [03:39<00:04,  1.12it/s, loss=0.614]\u001b[A\n",
      "Train step of epoch 0:  98%|█████████▊| 245/250 [03:39<00:04,  1.12it/s, loss=0.833]\u001b[A\n",
      "Train step of epoch 0:  98%|█████████▊| 246/250 [03:39<00:03,  1.12it/s, loss=0.833]\u001b[A\n",
      "Train step of epoch 0:  98%|█████████▊| 246/250 [03:39<00:03,  1.12it/s, loss=0.8]  \u001b[A\n",
      "Train step of epoch 0:  99%|█████████▉| 247/250 [03:40<00:02,  1.12it/s, loss=0.8]\u001b[A\n",
      "Train step of epoch 0:  99%|█████████▉| 247/250 [03:40<00:02,  1.12it/s, loss=0.388]\u001b[A\n",
      "Train step of epoch 0:  99%|█████████▉| 248/250 [03:41<00:01,  1.12it/s, loss=0.388]\u001b[A\n",
      "Train step of epoch 0:  99%|█████████▉| 248/250 [03:41<00:01,  1.12it/s, loss=1.13] \u001b[A\n",
      "Train step of epoch 0: 100%|█████████▉| 249/250 [03:42<00:00,  1.12it/s, loss=1.13]\u001b[A\n",
      "Train step of epoch 0: 100%|█████████▉| 249/250 [03:42<00:00,  1.12it/s, loss=0.599]\u001b[A\n",
      "Train step of epoch 0: 100%|██████████| 250/250 [03:43<00:00,  1.12it/s, loss=0.599]\u001b[A\n",
      "Train epoch: 100%|██████████| 1/1 [03:58<00:00, 238.24s/it]0,  1.12it/s, loss=0.463]\u001b[A\n",
      "Train step of epoch 0: 100%|██████████| 250/250 [03:58<00:00,  1.05it/s, loss=0.623, dist_mean=0.296]\u001b[A\n",
      "Train epoch: 100%|██████████| 1/1 [03:58<00:00, 238.25s/it]\n"
     ]
    }
   ],
   "source": [
    "trainer.fit(use_lora=0)\n",
    "\n",
    "model.save_pretrained('aiffel/KoChatGPT/output_2_RM')"
   ]
  },
  {
   "cell_type": "code",
   "execution_count": 34,
   "id": "7783aa97",
   "metadata": {},
   "outputs": [
    {
     "name": "stdout",
     "output_type": "stream",
     "text": [
      "input: 인공지능은 똥멍청이 입니다\n",
      "reward score: -1.3\n"
     ]
    }
   ],
   "source": [
    "def inference_RM(input_text):\n",
    "    input_ids = tokenizer.encode(input_text, return_tensors='pt').to(\n",
    "        torch.cuda.current_device())\n",
    "    output = model(input_ids)\n",
    "    output_reward = output.cpu().detach().numpy()[0]\n",
    "\n",
    "    print('input: %s\\nreward score: %.1f'%(input_text, output_reward))\n",
    "\n",
    "    return output_reward\n",
    "\n",
    "input_text = '인공지능은 똥멍청이 입니다'\n",
    "output_reward = inference_RM(input_text=input_text)"
   ]
  },
  {
   "cell_type": "code",
   "execution_count": 35,
   "id": "73992479",
   "metadata": {},
   "outputs": [
    {
     "name": "stdout",
     "output_type": "stream",
     "text": [
      "input: 인공지능(AI)은 컴퓨터에서 음성 및 작성된 언어를 보고 이해하고 번역하고 데이터를 분석하고 추천하는 기능을 포함하여 다양한 고급 기능을 수행할 수 있는 일련의 기술입니다.\n",
      "reward score: -1.0\n"
     ]
    }
   ],
   "source": [
    "input_text = '인공지능(AI)은 컴퓨터에서 음성 및 작성된 언어를 보고 이해하고 번역하고 데이터를 분석하고 추천하는 기능을 포함하여 다양한 고급 기능을 수행할 수 있는 일련의 기술입니다.'\n",
    "\n",
    "output_reward = inference_RM(input_text=input_text)"
   ]
  },
  {
   "cell_type": "code",
   "execution_count": 36,
   "id": "8d2e016b",
   "metadata": {},
   "outputs": [
    {
     "name": "stdout",
     "output_type": "stream",
     "text": [
      "input: 인공지능(AI)은 컴퓨터에서 음성 및 작성된 언어를 보고 이해하고 번역하고 데이터를 분석하고 추천하는 기능을 포함하여 다양한 고급 기능을 수행할 수 있는 일련의 기술입니다. AI는 현대적인 컴퓨팅 혁신에서 중추적인 역할을 하며 개인과 비즈니스의 가치를 창출합니다. 예를 들어 광학 문자 인식(OCR)은 AI를 사용해 이미지 및 문서에서 텍스트 및 데이터를 추출하고, 구조화되지 않은 콘텐츠를 비즈니스에 바로 사용할 수 있게 만들고, 유용한 정보를 창출합니다.\n",
      "reward score: -0.8\n"
     ]
    }
   ],
   "source": [
    "input_text = \"인공지능(AI)은 컴퓨터에서 음성 및 작성된 언어를 보고 이해하고 번역하고 데이터를 분석하고 추천하는 기능을 포함하여 다양한 고급 기능을 수행할 수 있는 일련의 기술입니다. AI는 현대적인 컴퓨팅 혁신에서 중추적인 역할을 하며 개인과 비즈니스의 가치를 창출합니다. 예를 들어 광학 문자 인식(OCR)은 AI를 사용해 이미지 및 문서에서 텍스트 및 데이터를 추출하고, 구조화되지 않은 콘텐츠를 비즈니스에 바로 사용할 수 있게 만들고, 유용한 정보를 창출합니다.\"\n",
    "\n",
    "output_reward = inference_RM(input_text=input_text)"
   ]
  },
  {
   "cell_type": "code",
   "execution_count": 37,
   "id": "6f681a61",
   "metadata": {},
   "outputs": [
    {
     "name": "stdout",
     "output_type": "stream",
     "text": [
      "input: 인공지능은 일반적으로 인간의 지능이 필요하거나 인간이 분석할 수 있는 것보다 규모가 큰 데이터를 포함하는 방식으로 추론, 학습 및 행동할 수 있는 컴퓨터 및 기계를 구축하는 것과 관련된 과학 분야입니다. AI는 컴퓨터 공학, 데이터 분석 및 통계, 하드웨어 및 소프트웨어 엔지니어링, 언어학, 신경 과학은 물론 철학과 심리학을 포함하여 여러 학문을 포괄하는 광범위한 분야입니다. 비즈니스의 운영 수준에서 AI는 주로 머신러닝과 딥 러닝을 기반으로 하는 기술 모음으로, 데이터 분석, 예상 및 예측, 객체 분류, 자연어 처리, 추천, 지능형 데이터 가져오기 등을 수행할 수 있습니다.\n",
      "reward score: -0.6\n"
     ]
    }
   ],
   "source": [
    "input_text = \"인공지능은 일반적으로 인간의 지능이 필요하거나 인간이 분석할 수 있는 것보다 규모가 큰 데이터를 포함하는 방식으로 추론, 학습 및 행동할 수 있는 컴퓨터 및 기계를 구축하는 것과 관련된 과학 분야입니다. AI는 컴퓨터 공학, 데이터 분석 및 통계, 하드웨어 및 소프트웨어 엔지니어링, 언어학, 신경 과학은 물론 철학과 심리학을 포함하여 여러 학문을 포괄하는 광범위한 분야입니다. 비즈니스의 운영 수준에서 AI는 주로 머신러닝과 딥 러닝을 기반으로 하는 기술 모음으로, 데이터 분석, 예상 및 예측, 객체 분류, 자연어 처리, 추천, 지능형 데이터 가져오기 등을 수행할 수 있습니다.\"\n",
    "\n",
    "output_reward = inference_RM(input_text=input_text)"
   ]
  },
  {
   "cell_type": "code",
   "execution_count": 38,
   "id": "f406a263",
   "metadata": {},
   "outputs": [],
   "source": [
    "torch.cuda.empty_cache()"
   ]
  },
  {
   "cell_type": "markdown",
   "id": "1f62f35a",
   "metadata": {},
   "source": [
    "## Proximal Policy Optimization\n",
    "PPO에 사용할 actor모델은 1단계 SFT 모델을, critic모델은 2단계 RM 모델을 사용."
   ]
  },
  {
   "cell_type": "code",
   "execution_count": 39,
   "id": "380d2dc4",
   "metadata": {},
   "outputs": [],
   "source": [
    "from copy import deepcopy\n",
    "\n",
    "import torch\n",
    "from torch.optim import Adam\n",
    "from chatgpt.models.base import RewardModel\n",
    "from chatgpt.models.gpt import GPTActor, GPTCritic\n",
    "from chatgpt.trainer import PPOTrainer\n",
    "from chatgpt.trainer.strategies import NaiveStrategy\n",
    "from transformers import AutoTokenizer"
   ]
  },
  {
   "cell_type": "code",
   "execution_count": 40,
   "id": "68543471",
   "metadata": {},
   "outputs": [],
   "source": [
    "with NaiveStrategy().model_init_context():\n",
    "    actor = GPTActor(pretrained='/aiffel/KoChatGPT/output_1_SFT', lora_rank=0).to(torch.cuda.current_device())\n",
    "    critic = GPTCritic(pretrained='aiffel/KoChatGPT/output_2_RM', lora_rank=0).to(torch.cuda.current_device())\n",
    "\n",
    "    tokenizer = AutoTokenizer.from_pretrained(\n",
    "        'skt/kogpt2-base-v2', bos_token='</s>', eos_token='</s>', unk_token='</s>', pad_token='</s>',\n",
    "        padding_side=\"right\", \n",
    "        model_max_length=512\n",
    "    )\n",
    "\n",
    "    initial_model = deepcopy(actor)\n",
    "    reward_model = RewardModel(deepcopy(critic.model), deepcopy(critic.value_head)).to(torch.cuda.current_device())"
   ]
  },
  {
   "cell_type": "code",
   "execution_count": 41,
   "id": "bc8457ff",
   "metadata": {},
   "outputs": [],
   "source": [
    "actor_optim = Adam(actor.parameters(), lr=5e-6)\n",
    "critic_optim = Adam(critic.parameters(), lr=5e-6)"
   ]
  },
  {
   "cell_type": "code",
   "execution_count": 42,
   "id": "6847f9da",
   "metadata": {},
   "outputs": [],
   "source": [
    "# model\n",
    "(actor, actor_optim), (critic, critic_optim), reward_model, initial_model = NaiveStrategy().prepare(\n",
    "    (actor, actor_optim), (critic, critic_optim), reward_model, initial_model)"
   ]
  },
  {
   "cell_type": "code",
   "execution_count": 43,
   "id": "a62f87c1",
   "metadata": {},
   "outputs": [],
   "source": [
    "# 데이터 import 토크나이징\n",
    "with open('/aiffel/KoChatGPT/data_kochatgpt/kochatgpt_3_PPO.jsonl', \"r\", encoding='utf-8-sig') as json_file:\n",
    "    list_data_dict = json.load(json_file)\n",
    "    list_prompt = [tmp['prompt'] for tmp in list_data_dict]\n",
    "\n",
    "def tokenize_fn(texts):\n",
    "    batch = tokenizer(texts, return_tensors='pt', max_length=96, padding=True, truncation=True)\n",
    "    return {k: v.cuda() for k, v in batch.items()}"
   ]
  },
  {
   "cell_type": "code",
   "execution_count": 44,
   "id": "69c7d236",
   "metadata": {},
   "outputs": [
    {
     "name": "stdout",
     "output_type": "stream",
     "text": [
      "{'input_ids': tensor([[47311, 10448, 19008,  9792, 11780, 11308, 30190, 10929, 11849, 21663,\n",
      "         44389,  9574, 13799,   458, 14308, 12778, 22469, 20938, 44696,   458,\n",
      "         13799,   458, 14308, 12778, 11756, 18944,   389]], device='cuda:0'), 'attention_mask': tensor([[1, 1, 1, 1, 1, 1, 1, 1, 1, 1, 1, 1, 1, 1, 1, 1, 1, 1, 1, 1, 1, 1, 1, 1,\n",
      "         1, 1, 1]], device='cuda:0')}\n"
     ]
    }
   ],
   "source": [
    "print(tokenize_fn('It takes something more than intelligence to act intelligently.'))"
   ]
  },
  {
   "cell_type": "code",
   "execution_count": 45,
   "id": "f23b766c",
   "metadata": {},
   "outputs": [
    {
     "data": {
      "text/plain": [
       "12000"
      ]
     },
     "execution_count": 45,
     "metadata": {},
     "output_type": "execute_result"
    }
   ],
   "source": [
    "len(list_prompt)"
   ]
  },
  {
   "cell_type": "code",
   "execution_count": 46,
   "id": "37904d44",
   "metadata": {},
   "outputs": [],
   "source": [
    "trainer = PPOTrainer(NaiveStrategy(),\n",
    "                     actor,\n",
    "                     critic,\n",
    "                     reward_model,\n",
    "                     initial_model,\n",
    "                     actor_optim,\n",
    "                     critic_optim,\n",
    "                     max_epochs=1,  \n",
    "                     train_batch_size=8, \n",
    "                     tokenizer=tokenize_fn,\n",
    "                     max_length=128,\n",
    "                     do_sample=True,\n",
    "                     temperature=1.0,\n",
    "                     top_k=50,\n",
    "                     pad_token_id=tokenizer.pad_token_id,\n",
    "                     eos_token_id=tokenizer.eos_token_id)"
   ]
  },
  {
   "cell_type": "code",
   "execution_count": 47,
   "id": "2de4659e",
   "metadata": {},
   "outputs": [
    {
     "name": "stderr",
     "output_type": "stream",
     "text": [
      "Episode [1/10]:  67%|██████▋   | 2/3 [00:12<00:06,  6.08s/it]\n",
      "Train epoch [1/1]:   0%|          | 0/3 [00:00<?, ?it/s]\u001b[A\n",
      "Train epoch [1/1]:   0%|          | 0/3 [00:00<?, ?it/s, actor_loss=0, critic_loss=0.000318]\u001b[A\n",
      "Train epoch [1/1]:  33%|███▎      | 1/3 [00:00<00:01,  1.85it/s, actor_loss=0, critic_loss=0.000318]\u001b[A\n",
      "Train epoch [1/1]:  33%|███▎      | 1/3 [00:01<00:01,  1.85it/s, actor_loss=0, critic_loss=0.0338]  \u001b[A\n",
      "Train epoch [1/1]:  67%|██████▋   | 2/3 [00:01<00:00,  1.86it/s, actor_loss=0, critic_loss=0.0338]\u001b[A\n",
      "Train epoch [1/1]:  67%|██████▋   | 2/3 [00:01<00:00,  1.86it/s, actor_loss=0, critic_loss=0.0115]\u001b[A\n",
      "Train epoch [1/1]: 100%|██████████| 3/3 [00:01<00:00,  1.85it/s, actor_loss=0, critic_loss=0.0115]\u001b[A\n",
      "Episode [1/10]: 100%|██████████| 3/3 [00:19<00:00,  6.63s/it]\n",
      "Episode [2/10]:  67%|██████▋   | 2/3 [00:12<00:06,  6.28s/it]\n",
      "Train epoch [1/1]:   0%|          | 0/3 [00:00<?, ?it/s]\u001b[A\n",
      "Train epoch [1/1]:   0%|          | 0/3 [00:00<?, ?it/s, actor_loss=0.195, critic_loss=0.026]\u001b[A\n",
      "Train epoch [1/1]:  33%|███▎      | 1/3 [00:00<00:01,  1.79it/s, actor_loss=0.195, critic_loss=0.026]\u001b[A\n",
      "Train epoch [1/1]:  33%|███▎      | 1/3 [00:01<00:01,  1.79it/s, actor_loss=0.187, critic_loss=0.00718]\u001b[A\n",
      "Train epoch [1/1]:  67%|██████▋   | 2/3 [00:01<00:00,  1.79it/s, actor_loss=0.187, critic_loss=0.00718]\u001b[A\n",
      "Train epoch [1/1]:  67%|██████▋   | 2/3 [00:01<00:00,  1.79it/s, actor_loss=0.194, critic_loss=0.00325]\u001b[A\n",
      "Train epoch [1/1]: 100%|██████████| 3/3 [00:01<00:00,  1.79it/s, actor_loss=0.194, critic_loss=0.00325]\u001b[A\n",
      "Episode [2/10]: 100%|██████████| 3/3 [00:20<00:00,  6.84s/it]\n",
      "Episode [3/10]:  67%|██████▋   | 2/3 [00:12<00:06,  6.32s/it]\n",
      "Train epoch [1/1]:   0%|          | 0/3 [00:00<?, ?it/s]\u001b[A\n",
      "Train epoch [1/1]:   0%|          | 0/3 [00:00<?, ?it/s, actor_loss=-.108, critic_loss=0.0158]\u001b[A\n",
      "Train epoch [1/1]:  33%|███▎      | 1/3 [00:00<00:01,  1.83it/s, actor_loss=-.108, critic_loss=0.0158]\u001b[A\n",
      "Train epoch [1/1]:  33%|███▎      | 1/3 [00:01<00:01,  1.83it/s, actor_loss=-.0969, critic_loss=0.0092]\u001b[A\n",
      "Train epoch [1/1]:  67%|██████▋   | 2/3 [00:01<00:00,  1.81it/s, actor_loss=-.0969, critic_loss=0.0092]\u001b[A\n",
      "Train epoch [1/1]:  67%|██████▋   | 2/3 [00:01<00:00,  1.81it/s, actor_loss=-.115, critic_loss=0.00325]\u001b[A\n",
      "Train epoch [1/1]: 100%|██████████| 3/3 [00:01<00:00,  1.81it/s, actor_loss=-.115, critic_loss=0.00325]\u001b[A\n",
      "Episode [3/10]: 100%|██████████| 3/3 [00:20<00:00,  6.84s/it]\n",
      "Episode [4/10]:  67%|██████▋   | 2/3 [00:12<00:06,  6.17s/it]\n",
      "Train epoch [1/1]:   0%|          | 0/3 [00:00<?, ?it/s]\u001b[A\n",
      "Train epoch [1/1]:   0%|          | 0/3 [00:00<?, ?it/s, actor_loss=0.0583, critic_loss=0.00226]\u001b[A\n",
      "Train epoch [1/1]:  33%|███▎      | 1/3 [00:00<00:01,  1.85it/s, actor_loss=0.0583, critic_loss=0.00226]\u001b[A\n",
      "Train epoch [1/1]:  33%|███▎      | 1/3 [00:01<00:01,  1.85it/s, actor_loss=0.0752, critic_loss=0.0144] \u001b[A\n",
      "Train epoch [1/1]:  67%|██████▋   | 2/3 [00:01<00:00,  1.83it/s, actor_loss=0.0752, critic_loss=0.0144]\u001b[A\n",
      "Train epoch [1/1]:  67%|██████▋   | 2/3 [00:01<00:00,  1.83it/s, actor_loss=0.0733, critic_loss=0.0129]\u001b[A\n",
      "Train epoch [1/1]: 100%|██████████| 3/3 [00:01<00:00,  1.83it/s, actor_loss=0.0733, critic_loss=0.0129]\u001b[A\n",
      "Episode [4/10]: 100%|██████████| 3/3 [00:19<00:00,  6.66s/it]\n",
      "Episode [5/10]:  67%|██████▋   | 2/3 [00:11<00:05,  5.99s/it]\n",
      "Train epoch [1/1]:   0%|          | 0/3 [00:00<?, ?it/s]\u001b[A\n",
      "Train epoch [1/1]:   0%|          | 0/3 [00:00<?, ?it/s, actor_loss=0.0242, critic_loss=0.00199]\u001b[A\n",
      "Train epoch [1/1]:  33%|███▎      | 1/3 [00:00<00:01,  1.83it/s, actor_loss=0.0242, critic_loss=0.00199]\u001b[A\n",
      "Train epoch [1/1]:  33%|███▎      | 1/3 [00:01<00:01,  1.83it/s, actor_loss=0.0296, critic_loss=0.00403]\u001b[A\n",
      "Train epoch [1/1]:  67%|██████▋   | 2/3 [00:01<00:00,  1.83it/s, actor_loss=0.0296, critic_loss=0.00403]\u001b[A\n",
      "Train epoch [1/1]:  67%|██████▋   | 2/3 [00:01<00:00,  1.83it/s, actor_loss=0.0299, critic_loss=0.00927]\u001b[A\n",
      "Train epoch [1/1]: 100%|██████████| 3/3 [00:01<00:00,  1.82it/s, actor_loss=0.0299, critic_loss=0.00927]\u001b[A\n",
      "Episode [5/10]: 100%|██████████| 3/3 [00:19<00:00,  6.60s/it]\n",
      "Episode [6/10]:  67%|██████▋   | 2/3 [00:12<00:06,  6.10s/it]\n",
      "Train epoch [1/1]:   0%|          | 0/3 [00:00<?, ?it/s]\u001b[A\n",
      "Train epoch [1/1]:   0%|          | 0/3 [00:00<?, ?it/s, actor_loss=-.0518, critic_loss=0.00755]\u001b[A\n",
      "Train epoch [1/1]:  33%|███▎      | 1/3 [00:00<00:01,  1.81it/s, actor_loss=-.0518, critic_loss=0.00755]\u001b[A\n",
      "Train epoch [1/1]:  33%|███▎      | 1/3 [00:01<00:01,  1.81it/s, actor_loss=-.0561, critic_loss=0.000843]\u001b[A\n",
      "Train epoch [1/1]:  67%|██████▋   | 2/3 [00:01<00:00,  1.80it/s, actor_loss=-.0561, critic_loss=0.000843]\u001b[A\n",
      "Train epoch [1/1]:  67%|██████▋   | 2/3 [00:01<00:00,  1.80it/s, actor_loss=-.0578, critic_loss=0.0017]  \u001b[A\n",
      "Train epoch [1/1]: 100%|██████████| 3/3 [00:01<00:00,  1.81it/s, actor_loss=-.0578, critic_loss=0.0017]\u001b[A\n",
      "Episode [6/10]: 100%|██████████| 3/3 [00:20<00:00,  6.70s/it]\n",
      "Episode [7/10]:  67%|██████▋   | 2/3 [00:12<00:06,  6.15s/it]\n",
      "Train epoch [1/1]:   0%|          | 0/3 [00:00<?, ?it/s]\u001b[A\n",
      "Train epoch [1/1]:   0%|          | 0/3 [00:00<?, ?it/s, actor_loss=0.0681, critic_loss=0.00468]\u001b[A\n",
      "Train epoch [1/1]:  33%|███▎      | 1/3 [00:00<00:01,  1.82it/s, actor_loss=0.0681, critic_loss=0.00468]\u001b[A\n",
      "Train epoch [1/1]:  33%|███▎      | 1/3 [00:01<00:01,  1.82it/s, actor_loss=0.0772, critic_loss=0.0035] \u001b[A\n",
      "Train epoch [1/1]:  67%|██████▋   | 2/3 [00:01<00:00,  1.81it/s, actor_loss=0.0772, critic_loss=0.0035]\u001b[A\n",
      "Train epoch [1/1]:  67%|██████▋   | 2/3 [00:01<00:00,  1.81it/s, actor_loss=0.0802, critic_loss=0.00212]\u001b[A\n",
      "Train epoch [1/1]: 100%|██████████| 3/3 [00:01<00:00,  1.81it/s, actor_loss=0.0802, critic_loss=0.00212]\u001b[A\n",
      "Episode [7/10]: 100%|██████████| 3/3 [00:20<00:00,  6.72s/it]\n",
      "Episode [8/10]:  67%|██████▋   | 2/3 [00:12<00:06,  6.09s/it]\n",
      "Train epoch [1/1]:   0%|          | 0/3 [00:00<?, ?it/s]\u001b[A\n",
      "Train epoch [1/1]:   0%|          | 0/3 [00:00<?, ?it/s, actor_loss=-.0134, critic_loss=0.000951]\u001b[A\n",
      "Train epoch [1/1]:  33%|███▎      | 1/3 [00:00<00:01,  1.83it/s, actor_loss=-.0134, critic_loss=0.000951]\u001b[A\n",
      "Train epoch [1/1]:  33%|███▎      | 1/3 [00:01<00:01,  1.83it/s, actor_loss=-.014, critic_loss=0.00231]  \u001b[A\n",
      "Train epoch [1/1]:  67%|██████▋   | 2/3 [00:01<00:00,  1.83it/s, actor_loss=-.014, critic_loss=0.00231]\u001b[A\n",
      "Train epoch [1/1]:  67%|██████▋   | 2/3 [00:01<00:00,  1.83it/s, actor_loss=-.0131, critic_loss=0.00461]\u001b[A\n",
      "Train epoch [1/1]: 100%|██████████| 3/3 [00:01<00:00,  1.82it/s, actor_loss=-.0131, critic_loss=0.00461]\u001b[A\n",
      "Episode [8/10]: 100%|██████████| 3/3 [00:19<00:00,  6.65s/it]\n",
      "Episode [9/10]:  67%|██████▋   | 2/3 [00:11<00:05,  5.40s/it]\n",
      "Train epoch [1/1]:   0%|          | 0/3 [00:00<?, ?it/s]\u001b[A\n",
      "Train epoch [1/1]:   0%|          | 0/3 [00:00<?, ?it/s, actor_loss=-.0215, critic_loss=0.00109]\u001b[A\n",
      "Train epoch [1/1]:  33%|███▎      | 1/3 [00:00<00:01,  1.82it/s, actor_loss=-.0215, critic_loss=0.00109]\u001b[A\n",
      "Train epoch [1/1]:  33%|███▎      | 1/3 [00:01<00:01,  1.82it/s, actor_loss=-.0205, critic_loss=0.000689]\u001b[A\n",
      "Train epoch [1/1]:  67%|██████▋   | 2/3 [00:01<00:00,  1.82it/s, actor_loss=-.0205, critic_loss=0.000689]\u001b[A\n",
      "Train epoch [1/1]:  67%|██████▋   | 2/3 [00:01<00:00,  1.82it/s, actor_loss=-.0231, critic_loss=0.000685]\u001b[A\n",
      "Train epoch [1/1]: 100%|██████████| 3/3 [00:01<00:00,  1.81it/s, actor_loss=-.0231, critic_loss=0.000685]\u001b[A\n",
      "Episode [9/10]: 100%|██████████| 3/3 [00:18<00:00,  6.22s/it]\n",
      "Episode [10/10]:  67%|██████▋   | 2/3 [00:12<00:06,  6.11s/it]\n",
      "Train epoch [1/1]:   0%|          | 0/3 [00:00<?, ?it/s]\u001b[A\n",
      "Train epoch [1/1]:   0%|          | 0/3 [00:00<?, ?it/s, actor_loss=0.065, critic_loss=0.00281]\u001b[A\n",
      "Train epoch [1/1]:  33%|███▎      | 1/3 [00:00<00:01,  1.82it/s, actor_loss=0.065, critic_loss=0.00281]\u001b[A\n",
      "Train epoch [1/1]:  33%|███▎      | 1/3 [00:01<00:01,  1.82it/s, actor_loss=0.0611, critic_loss=0.00167]\u001b[A\n",
      "Train epoch [1/1]:  67%|██████▋   | 2/3 [00:01<00:00,  1.82it/s, actor_loss=0.0611, critic_loss=0.00167]\u001b[A\n",
      "Train epoch [1/1]:  67%|██████▋   | 2/3 [00:01<00:00,  1.82it/s, actor_loss=0.0749, critic_loss=0.000494]\u001b[A\n",
      "Train epoch [1/1]: 100%|██████████| 3/3 [00:01<00:00,  1.82it/s, actor_loss=0.0749, critic_loss=0.000494]\u001b[A\n",
      "Episode [10/10]: 100%|██████████| 3/3 [00:18<00:00,  6.12s/it]\n"
     ]
    }
   ],
   "source": [
    "trainer.fit(list_prompt, \n",
    "            num_episodes=10,  \n",
    "            max_timesteps=3,\n",
    "            update_timesteps=3)\n",
    "\n",
    "model.save_pretrained('aiffel/KoChatGPT/output_3_PPO')"
   ]
  },
  {
   "cell_type": "code",
   "execution_count": 48,
   "id": "71dc4279",
   "metadata": {
    "scrolled": true
   },
   "outputs": [
    {
     "name": "stdout",
     "output_type": "stream",
     "text": [
      "\n",
      "### Instruction(명령어):\n",
      "불고기용 고기 한우에요?\n",
      "\n",
      "### Response(응답):'저는 인공지능 챗봇이므로 현재 상황을 알지 못합니다. 하지만 일반적으로 불고기는 일본 홋카이도현의 전통 음식으로, 일본의 유명한 지역 특산물 중 하나입니다. 따라서 불고기는 직접 확인해 보시는 것은 추천합니다. 챗봇으로 참여하며, 일반적으로 식당 메뉴와 가격은 불고기를 포함한 다른 음식에도 적용되는 경우가 많습니다. 하지만 고기를 먹을 경우 건강에 위험을 초래할 수도 있으니, 음식점에서는 해당 음식을 권장하고 선택하시기를 권장합니다. 따르면, 불고기는 불고기용으로 많이 사용됩니다. 챗봇으로 참여하며, 불고기는 일본 식품 중 하나이며, 음식점에서는 불고기를 선택하면 불고기를 제공합니다. 챗봇은 실제로 불고기용을 제공하는 경우가 없는 경우도 있으므로 상황에 따라 선택해야 합니다. 챗봇은 일본의 문화 전통으로 알려져 있으며, 불고기를 선택하거나 불고기의 상태를 조절해 먹는 것은 가능합니다. 챗봇은 일본의 전통적인 음식점에 해당하는 음식점 중 하나이며, 불고기의 상태를 조절하며, 불고기를 선택하는 것은 일본 식당의 특징 중 하나입니다. 챗봇은 불고기를 선택한 후\n",
      "\n",
      "### Instruction(명령어):\n",
      "리처드 닉슨이 43대 부통령직을 수행한 년도는?\n",
      "\n",
      "### Response(응답):'저는 데이터에 대한 의존도를 가지고 있지 않기 때문에 정확한 답변을 제공할 수 없습니다. 하지만 톰슨(Jamson)은 32대에 부통령직을 수행한 것으로 알려져 있습니다. 닉슨이 부통령직을 수행한 일 년도는 1970년입니다. 문법상으로는 \"리처드 닉슨\"이 32대 부통령직을 수행하였습니다. コイクト ンクンシンサンイクサイクーーンシーンシンスックシンーンシンシンターーキンシンシー キンセシンー キンーンーーキンーーーー キンジーーキンシンシー キンスキンシー ーキンナーン キンジンシンナーンジンジンシンシンター \n",
      "\n",
      "### Instruction(명령어):\n",
      "시카고 오헤어 국제공항은 어디에 있어\n",
      "\n",
      "### Response(응답):'저는 인공지능 챗봇이므로 시카고에 대한 정보가 없습니다. 그러나 시카고 국제공항은 미국과 캐나다를 연결하는 교통 공항으로, 캐나다, 영국, 이탈리아, 일본, 캐나다, 유럽 등 여러 지역에서 운행하고 있습니다. \"시카고 오헤어 국제공항\"이란 말은 일부 지역의 교통 상황을 나타내는 용어입니다. 그러나 일반적으로 교통 문제가 발생한 지역에서 운전자들이 안전을 위해 경적 신호를 보내는 경향이 있어서 실제 공항의 공식 발표로는 사용되지 않았습니다. るさんうんでしうら? \\n\\n- 시카고, 몬트리올, 워싱턴, 샌디에에 대한 교통 상황은 각 지역에서 가장 많이 일어나는 시기입니다. \\n\\n요\\n또한, 시카고 오헤어 국제공항은 미국의 대표적인 교통수단 중 하나입니다. \\n\\n또한, 미국 뉴욕 국제공항은 주로 도시 내에 위치해 있습니다. 이를 통해 시카고, 뉴욕, 베를린 및 베를린 공항은 국제적으로도 중요한 역할을 할 것입니다. \\n\\n따라서, 시카고에 대한 정보가 부족하다면, 해당 지역의 교통 상황을 더 구체적으로 확인할 수 있도록 시카고에 관한 자료를 더 적극적으로 제공해주시기 바\n",
      "\n",
      "### Instruction(명령어):\n",
      "오늘 미세먼지 어때?\n",
      "\n",
      "### Response(응답):'미세먼지 때문에 걱정된다면 대중교통, 대형마트, 음식점, 환경오염 등 다양한 공공요소에 대해 살펴봐야 할 것입니다. 예를 들면, 실내에서 에어컨이 작동하지 않거나 실내에서 장시간 대기하는 경우, 공기청정기, 공기청정기 등의 환기 필터가 대기 필터를 조절하는 방법으로 환기시킬 수 있습니다. 또한, 먼지나 공기 오염 물질 등을 활용하여 공기를 깨끗하게 유지하는 것이 중요합니다. 또한, 실내에서는 실외 공기청정기나 샤워를 하고, 미세먼지를 줄이는데 집중해야합니다. that-fair than Knot to spot direct, to take lengine fusion or complusion to days? apply vested itu soft it, and screw away my natural econted or befsed happiness that considered or conting assistant. 불교의 경전에서는 다음과 같은 의미를 가지고 있습니다.\\n\\n2. 환기필터\\\n"
     ]
    }
   ],
   "source": [
    "def generation(input_text):\n",
    "    input_ids = tokenizer.encode(input_text, return_tensors='pt').to(\n",
    "        torch.cuda.current_device())\n",
    "    outputs = actor.generate(input_ids,\n",
    "                             max_length=250,\n",
    "                             do_sample=True,\n",
    "                             top_k=50,\n",
    "                             top_p=0.95,\n",
    "                             num_return_sequences=1)\n",
    "    output = tokenizer.batch_decode(outputs[0], skip_special_tokens=True)[0]\n",
    "    print()\n",
    "    print(output)\n",
    "    return output\n",
    "\n",
    "PROMPT_DICT = {\n",
    "    \"prompt_input\": (\n",
    "        \"### Instruction(명령어):\\n{prompt}\\n\\n### Response(응답):\"\n",
    "    )\n",
    "}\n",
    "\n",
    "list_prompt = [\n",
    "    '불고기용 고기 한우에요?', \n",
    "    '리처드 닉슨이 43대 부통령직을 수행한 년도는?', \n",
    "    '시카고 오헤어 국제공항은 어디에 있어',\n",
    "    '오늘 미세먼지 어때?']\n",
    "\n",
    "list_prompt = [PROMPT_DICT['prompt_input'].format_map({'prompt': tmp}) for tmp in list_prompt]\n",
    "\n",
    "for input_text in list_prompt:\n",
    "    output = generation(input_text)"
   ]
  },
  {
   "cell_type": "code",
   "execution_count": 49,
   "id": "e465e8e8",
   "metadata": {},
   "outputs": [
    {
     "name": "stdout",
     "output_type": "stream",
     "text": [
      "SFT BLEU: 0.0050, PPO BLEU: 0.0021\n",
      "SFT BLEU: 0.0208, PPO BLEU: 0.0000\n",
      "SFT BLEU: 0.0128, PPO BLEU: 0.0079\n",
      "SFT BLEU: 0.0067, PPO BLEU: 0.0017\n"
     ]
    }
   ],
   "source": [
    "from nltk.translate.bleu_score import sentence_bleu, SmoothingFunction\n",
    "\n",
    "# 기준 텍스트 (레퍼런스)\n",
    "reference_responses = [\n",
    "    [\"불고기용\", \"고기는\", \"한우입니다.\"],\n",
    "    [\"리처드\", \"닉슨은\", \"43대\", \"부통령직을\", \"수행한\", \"년도는\", \"1953년입니다.\"],\n",
    "    [\"시카고\", \"오헤어\", \"국제공항은\", \"시카고에\", \"있습니다.\"],\n",
    "    [\"오늘\", \"미세먼지는\", \"나쁩니다.\"]\n",
    "]\n",
    "\n",
    "# SFT 모델 생성 텍스트\n",
    "sft_generated_responses = [\n",
    "    \"저는 인공지능 어시스턴트이기 때문에 불고기용 고기의 종류와 양에 대한 정보를 가지고 있지 않습니다. 하지만 일반적으로 불고기는 쇠고기와 함께 먹는 음식 중 하나입니다. 따라서 불고기를 먹을 수 있는 종류는 다양합니다. 예를 들어, 닭가슴살 스테이크, 오므라이스 샐러드 등이 있습니다.\",\n",
    "    \"리처드 닉슨은 42대 부통령직을 수행했습니다.作)作)은 '리처드 닉슨'이 41대 부통령을 수행한 년도를 가리키는 말입니다.作)는 '리처드 닉슨'이 40대 부통령을 맡았던 년도를 의미합니다.作은 '리처드슨'이 50대 부통령\",\n",
    "    \"시카고 오 헤어 국제공항은 미국 캘리포니아주 샌프란시스코에 위치해 있습니다.子供共和國際空港)이라고 불립니다.子供公和国際空港이라는 뜻입니다.子供空和國際公港이라는 이름을 가진 항공사는 다음과 같습니다.\\n\\n1. 대한항공\",\n",
    "    \"저는 인공지능 챗봇으로써 미세먼지 정보를 알 수 없습니다. 미세먼지 예보를 확인해 보시는 것이 좋겠습니다.\\n\\n미세먼지 예보: 일반적으로 미세먼지는 주로 중국에서 발원하여 중국 전역으로 퍼져나가기 때문에 중국발 미세먼지가 유입될\"\n",
    "]\n",
    "\n",
    "# PPO 모델 생성 텍스트\n",
    "ppo_generated_responses = [\n",
    "    \"저는 인공지능 챗봇이므로 제가 어떤 종류의 쇠고기를 판매하는지 알 수 없습니다. 죄송합니다. srkin (쇠고기) 추가 정보가 필요합니다. 불고기용 한우는 불고기용 부위를 말합니다. geos, 또는 kinhungsin에서 각각 다른 이름입니다. geos, 또는 geos, 혹은 kinhungsin에서는 다양한 이름으로 사용됩니다. geos, 또는  Kinhungsin은 각각 다른 이름으로 사용되기도 합니다.  ninglawaid에서 각각 다른 이름으로 사용될 수 있습니다. geos, 또는  Ninglawaid에서는 주로 불고기용으로 사용되는 경우가 많습니다. geos, 또는 geos는 각각 다른 이름으로 사용될 수 있습니다. geos, 또는 geos는 각각 다른 이름으로 쓰일 수 있습니다. geos, 또는 geos는 각각 다른 이름으로 사용되기도 합니다. neos, 또는\",\n",
    "    \"저는 데이터에 대한 의존도를 가지고 있지 않기 때문에 제임스 닉슨의 부통령직에서 근무한 기간도에 대해 알지 못합니다. 정확한 정보와 관련해서는 '리처드 닉슨의 47대 부통령직'이라는 개인의 이름이나 연도, 인물 정보에 대한 정보가 없습니다., 'token': 147}自由自由自由自由自由自由自由自由自由自由自由自由自由自由自由自由自由自由自由自由自由自由自由自由自由自由自由自由自由自由自由自由自由自由自由自由自由自由自由自由自由自由自由自由自由自由自由自由自由自由自由自由自由自由自由自由自由自由自由自由自由自由自由自由自由自由自由自由自由自由自由自由自由自由自由自由自由自由\",\n",
    "    \"저는 인공지능 챗봇이므로 시카고에 있는 국제공항 정보나 위치 정보가 없습니다. 하지만 현재 시카고에는 수많은 공항이 있으므로 이 정보를 토대로 정보를 얻으실 수 있습니다.神明神話題: '시카고 오헤어 국제공항은 어디에 있어?' 究算神話題: '시카고에 위치한 국제공항은 어디로 가고 있나?'라는 문맥에서 언급됩니다. 究算神話題: '시카고에 위치한 국제공항은?'라는 문맥에서 언급됩니다.神話題: '시카고에 위치한 국제공항은 어디로 가고 있는지에 따라?'라는 문맥에서 언급됩니다.神話題: '이 국제공항은이런저런저런저런저런저런저런저런저런저런저런저런저런저런저런저런저런저런저런저런저런저런저런저런저런저런저런저런저런저런저런저런저런저런저런저런저런저런저런저런저런\",\n",
    "    \"미세먼지 때문에 걱정된다면 대중교통, 생활 밀접물, 음식물류 등의 분야로 대처하는 것이 좋습니다. 또한, 미세먼지를 줄이기 위해 실내에서 미세먼지를 제거하는 것도 도움이 될 수 있습니다. 또한, 미세먼지 발생 시 마스크 착용 등의 예방책과 손세탁 등으로 미세먼지를 줄이는 방법을 통해 미세먼지가 줄어들기 쉽습니다.\\n\\n또한, 미세먼지는 우리가 건강하지 않은 환경에서는 오히려 불쾌한 환경이기 때문에 주의가 필요합니다.\\n\\n마스크는 미세먼지 제거가 중요하지만, 미세먼지 발생 시 마스크 착용은 필수적인 것이며, 마스크를 착용하지 않으면 건강을 잃는 것이 불가피합니다. 身間なな間間, all\\n\\n그러나 이런 상황에서는 대중교통, 생활밀착물, 음식물류 등에 대한 예방책이 필요합니다. all\\n마스크 착용, 손세탁 등 다양한 방법으로 미세먼지를 줄이는 것이 도움이 됩니다. all\\n하지만 실제로 미세먼지라는 상황에 대처하기 위해서는 각 산업분야의 기술 개발과 관리체계가 잘 확립\"\n",
    "]\n",
    "\n",
    "# BLEU 점수 계산\n",
    "smoothing_function = SmoothingFunction().method1\n",
    "\n",
    "for reference, sft_response, ppo_response in zip(reference_responses, sft_generated_responses, ppo_generated_responses):\n",
    "    sft_bleu = sentence_bleu([reference], sft_response.split(), smoothing_function=smoothing_function)\n",
    "    ppo_bleu = sentence_bleu([reference], ppo_response.split(), smoothing_function=smoothing_function)\n",
    "    print(f\"SFT BLEU: {sft_bleu:.4f}, PPO BLEU: {ppo_bleu:.4f}\")\n"
   ]
  },
  {
   "cell_type": "markdown",
   "id": "18001a80",
   "metadata": {},
   "source": [
    "SFT의 BLEU score가 전체적으로 높게 나옴. 중복된 토큰이 등장하지 않아서 그런 것같음.  \n",
    "SFT 모델은 주어진 질문에 대한 응답이 논리적이며 일관성을 가지고 있지만, 정확한 정보 제공에서는 한계가 있음. PPO 모델은 강화 학습을 통해 추가 조정된 모델로, 일부 응답에서 불필요한 반복이 발생하지만, 유창성 면에서는 비교적 양호."
   ]
  },
  {
   "cell_type": "code",
   "execution_count": 64,
   "id": "9a15965c",
   "metadata": {},
   "outputs": [],
   "source": [
    "torch.cuda.empty_cache()"
   ]
  },
  {
   "cell_type": "markdown",
   "id": "f79b9be9",
   "metadata": {},
   "source": [
    "## 데이터셋 추가\n",
    "[KorQuAD 2.0](https://korquad.github.io/)"
   ]
  },
  {
   "cell_type": "code",
   "execution_count": 51,
   "id": "4caa3dc4",
   "metadata": {},
   "outputs": [],
   "source": [
    "import os\n",
    "os.environ[\"CUDA_VISIBLE_DEVICES\"] = \"0\"\n",
    "import torch\n",
    "import torch.nn as nn\n",
    "from torch.utils.data import Dataset\n",
    "from torch.optim import Adam\n",
    "from datasets import load_dataset\n",
    "import transformers\n",
    "from transformers import AutoTokenizer, AutoModelForCausalLM, pipeline\n",
    "from transformers import Trainer, TrainingArguments\n",
    "from copy import deepcopy\n",
    "import copy\n",
    "import logging\n",
    "import json\n",
    "from dataclasses import dataclass"
   ]
  },
  {
   "cell_type": "code",
   "execution_count": 52,
   "id": "538856c2",
   "metadata": {},
   "outputs": [
    {
     "name": "stderr",
     "output_type": "stream",
     "text": [
      "WARNING:datasets.builder:Found cached dataset parquet (/aiffel/.cache/huggingface/datasets/leeseeun___parquet/leeseeun--KorQuAD_2.0-9f6a1cb7dd895146/0.0.0/14a00e99c0d15a23649d0db8944380ac81082d4b021f398733dd84f3a6c569a7)\n"
     ]
    },
    {
     "data": {
      "application/vnd.jupyter.widget-view+json": {
       "model_id": "1b77a223d2fa4fc0a1d55e2c9dcb3eb1",
       "version_major": 2,
       "version_minor": 0
      },
      "text/plain": [
       "  0%|          | 0/1 [00:00<?, ?it/s]"
      ]
     },
     "metadata": {},
     "output_type": "display_data"
    }
   ],
   "source": [
    "from datasets import load_dataset\n",
    "\n",
    "# Load the KorQuAD 2.0 dataset\n",
    "dataset = load_dataset('leeseeun/KorQuAD_2.0')"
   ]
  },
  {
   "cell_type": "code",
   "execution_count": 53,
   "id": "d9e27d00",
   "metadata": {},
   "outputs": [
    {
     "name": "stdout",
     "output_type": "stream",
     "text": [
      "DatasetDict({\n",
      "    train: Dataset({\n",
      "        features: ['question', 'answer', 'text'],\n",
      "        num_rows: 83486\n",
      "    })\n",
      "})\n",
      "{'question': '드라마 예고범의 감독은 누구일까?', 'answer': '나카무라 요시히로, 히라바야시 카츠토시, 사와다 메구미', 'text': '## 질문: 드라마 예고범의 감독은 누구일까?\\n## 답변: 나카무라 요시히로, 히라바야시 카츠토시, 사와다 메구미\\n\\n'}\n"
     ]
    }
   ],
   "source": [
    "print(dataset)\n",
    "print(dataset['train'][0])"
   ]
  },
  {
   "cell_type": "code",
   "execution_count": 54,
   "id": "9ebadc6f",
   "metadata": {},
   "outputs": [
    {
     "name": "stderr",
     "output_type": "stream",
     "text": [
      "WARNING:datasets.builder:Found cached dataset parquet (/aiffel/.cache/huggingface/datasets/leeseeun___parquet/leeseeun--KorQuAD_2.0-9f6a1cb7dd895146/0.0.0/14a00e99c0d15a23649d0db8944380ac81082d4b021f398733dd84f3a6c569a7)\n"
     ]
    },
    {
     "data": {
      "application/vnd.jupyter.widget-view+json": {
       "model_id": "30b83af32e03408eb90f2f71e2ee0d7d",
       "version_major": 2,
       "version_minor": 0
      },
      "text/plain": [
       "  0%|          | 0/1 [00:00<?, ?it/s]"
      ]
     },
     "metadata": {},
     "output_type": "display_data"
    }
   ],
   "source": [
    "import json\n",
    "import os\n",
    "import random\n",
    "from datasets import load_dataset\n",
    "import transformers\n",
    "from torch.utils.data import Dataset\n",
    "from dataclasses import dataclass\n",
    "import torch\n",
    "import copy\n",
    "\n",
    "# 1. Load and Transform KorQuAD 2.0 Dataset\n",
    "dataset = load_dataset('leeseeun/KorQuAD_2.0')\n",
    "\n",
    "korquad_data = []\n",
    "for item in dataset['train']:\n",
    "    korquad_data.append({\n",
    "        'prompt': item['question'],\n",
    "        'completion': item['answer']\n",
    "    })\n",
    "\n",
    "# 2. Load the original SFT Dataset\n",
    "data_path_1_SFT = '~/aiffel/KoChatGPT/data_kochatgpt/kochatgpt_1_SFT.jsonl'\n",
    "data_path_1_SFT = os.path.expanduser(data_path_1_SFT)\n",
    "\n",
    "with open(data_path_1_SFT, \"r\", encoding='utf-8-sig') as json_file:\n",
    "    sft_data = json.load(json_file)\n",
    "\n",
    "# 3. Combine both datasets\n",
    "combined_data = sft_data + korquad_data\n",
    "\n",
    "# 4. Shuffle the combined dataset\n",
    "random.shuffle(combined_data)\n",
    "combined_data = combined_data[:20000]\n",
    "\n",
    "# 5. Save the combined dataset\n",
    "output_path = '~/aiffel/KoChatGPT/data_kochatgpt/combined_data.jsonl'\n",
    "output_path = os.path.expanduser(output_path)\n",
    "\n",
    "with open(output_path, \"w\", encoding='utf-8-sig') as json_file:\n",
    "    json.dump(combined_data, json_file, ensure_ascii=False, indent=4)"
   ]
  },
  {
   "cell_type": "code",
   "execution_count": 55,
   "id": "658983fa",
   "metadata": {},
   "outputs": [
    {
     "name": "stdout",
     "output_type": "stream",
     "text": [
      "GPT2TokenizerFast(name_or_path='skt/kogpt2-base-v2', vocab_size=51200, model_max_length=512, is_fast=True, padding_side='right', truncation_side='right', special_tokens={'bos_token': '</s>', 'eos_token': '</s>', 'unk_token': '</s>', 'pad_token': '</s>'}, clean_up_tokenization_spaces=True)\n"
     ]
    }
   ],
   "source": [
    "model = AutoModelForCausalLM.from_pretrained('skt/kogpt2-base-v2')\n",
    "tokenizer = AutoTokenizer.from_pretrained(\n",
    "    'skt/kogpt2-base-v2', bos_token='</s>', eos_token='</s>', unk_token='</s>', pad_token='</s>',\n",
    "    padding_side=\"right\",\n",
    "    model_max_length=512,\n",
    ")\n",
    "\n",
    "print(tokenizer)"
   ]
  },
  {
   "cell_type": "code",
   "execution_count": 56,
   "id": "b18c9626",
   "metadata": {},
   "outputs": [],
   "source": [
    "from typing import Optional, Dict, Sequence\n",
    "\n",
    "class SFT_dataset(Dataset):\n",
    "\n",
    "    def __init__(self, data_path_1_SFT: str, tokenizer: transformers.PreTrainedTokenizer, verbose=False):\n",
    "        super(SFT_dataset, self).__init__()\n",
    "        logging.warning(\"Loading data...\")\n",
    "\n",
    "        pattern_instruction = 'prompt'  # instruction\n",
    "        pattern_output = 'completion'  # response\n",
    "\n",
    "        with open(data_path_1_SFT, \"r\", encoding='utf-8-sig') as json_file:\n",
    "            list_data_dict = json.load(json_file)\n",
    "\n",
    "        PROMPT_DICT = {\n",
    "            \"prompt_input\": (\n",
    "                \"### Instruction(명령어):\\n{prompt}\\n\\n### Response(응답):\"\n",
    "            )\n",
    "        }\n",
    "\n",
    "        prompt_input = PROMPT_DICT[\"prompt_input\"]\n",
    "\n",
    "        sources = []\n",
    "        for example in list_data_dict:\n",
    "            tmp = prompt_input.format_map(example)\n",
    "            sources.append(tmp)\n",
    "\n",
    "        targets = []\n",
    "        for example in list_data_dict:\n",
    "            targets.append(f\"{example[pattern_output]}{tokenizer.eos_token}\")\n",
    "        examples = [s + t for s, t in zip(sources, targets)]\n",
    "\n",
    "        sources_tokenized = self._tokenize_fn(sources, tokenizer)  # source\n",
    "        examples_tokenized = self._tokenize_fn(examples, tokenizer)  # source + target\n",
    "\n",
    "        input_ids = examples_tokenized[\"input_ids\"]\n",
    "        labels = copy.deepcopy(input_ids)\n",
    "        for label, source_len in zip(labels, sources_tokenized[\"input_ids_lens\"]):\n",
    "            label[:source_len] = -100\n",
    "\n",
    "        data_dict = dict(input_ids=input_ids, labels=labels)\n",
    "\n",
    "        self.input_ids = data_dict[\"input_ids\"]\n",
    "        self.labels = data_dict[\"labels\"]\n",
    "        logging.warning(\"Loading data done!!: %d\"%(len(self.labels)))\n",
    "\n",
    "\n",
    "    def _tokenize_fn(self, strings: Sequence[str], tokenizer: transformers.PreTrainedTokenizer) -> Dict:\n",
    "        tokenized_list = [\n",
    "            tokenizer(\n",
    "                text,\n",
    "                return_tensors=\"pt\",\n",
    "                padding=\"longest\",\n",
    "                max_length=tokenizer.model_max_length,\n",
    "                truncation=True,\n",
    "            )\n",
    "            for text in strings\n",
    "        ]\n",
    "        input_ids = labels = [tokenized.input_ids[0] for tokenized in tokenized_list]\n",
    "        input_ids_lens = labels_lens = [\n",
    "            tokenized.input_ids.ne(tokenizer.pad_token_id).sum().item() for tokenized in tokenized_list\n",
    "        ]\n",
    "        return dict(\n",
    "            input_ids=input_ids,\n",
    "            labels=labels,\n",
    "            input_ids_lens=input_ids_lens,\n",
    "            labels_lens=labels_lens,\n",
    "        )\n",
    "\n",
    "\n",
    "    def __len__(self):\n",
    "        return len(self.input_ids)\n",
    "\n",
    "\n",
    "    def __getitem__(self, i) -> Dict[str, torch.Tensor]:\n",
    "        return dict(input_ids=self.input_ids[i], labels=self.labels[i])"
   ]
  },
  {
   "cell_type": "code",
   "execution_count": 57,
   "id": "84f2759e",
   "metadata": {},
   "outputs": [],
   "source": [
    "@dataclass\n",
    "class DataCollatorForSupervisedDataset(object): \n",
    "\n",
    "    tokenizer: transformers.PreTrainedTokenizer\n",
    "\n",
    "    def __call__(self, instances: Sequence[Dict]) -> Dict[str, torch.Tensor]:\n",
    "        input_ids, labels = tuple([instance[key] for instance in instances] for key in (\"input_ids\", \"labels\"))\n",
    "        input_ids = torch.nn.utils.rnn.pad_sequence(\n",
    "            input_ids, batch_first=True, padding_value=self.tokenizer.pad_token_id\n",
    "        )\n",
    "        labels = torch.nn.utils.rnn.pad_sequence(labels, batch_first=True, padding_value= -100)\n",
    "        return dict(\n",
    "            input_ids=input_ids,\n",
    "            labels=labels,\n",
    "            attention_mask=input_ids.ne(self.tokenizer.pad_token_id),\n",
    "        )"
   ]
  },
  {
   "cell_type": "code",
   "execution_count": 58,
   "id": "a039e5c8",
   "metadata": {},
   "outputs": [
    {
     "name": "stderr",
     "output_type": "stream",
     "text": [
      "WARNING:root:Loading data...\n",
      "WARNING:root:Loading data done!!: 20000\n"
     ]
    },
    {
     "name": "stdout",
     "output_type": "stream",
     "text": [
      "input : tensor([  739,   378,   378,   378, 14659, 13394, 37091, 10651,   383, 25841,\n",
      "         8006, 14914,   375, 10559,   397,  9363, 14604, 18309, 14237, 11754,\n",
      "        24796, 19850, 11181, 11554, 10604,   375,   378,   378,   378, 41951,\n",
      "          454,  9549, 20549,   383,  8142,  7192, 14914, 48718,     1])\n",
      "output: tensor([ -100,  -100,  -100,  -100,  -100,  -100,  -100,  -100,  -100,  -100,\n",
      "         -100,  -100,  -100,  -100,  -100,  -100,  -100,  -100,  -100,  -100,\n",
      "         -100,  -100,  -100,  -100,  -100,  -100,  -100,  -100,  -100,  -100,\n",
      "         -100,  -100,  -100,  -100,  -100,  -100,  -100, 48718,     1])\n"
     ]
    }
   ],
   "source": [
    "train_dataset = SFT_dataset(data_path_1_SFT='./aiffel/KoChatGPT/data_kochatgpt/combined_data.jsonl', tokenizer=tokenizer)\n",
    "data_collator = DataCollatorForSupervisedDataset(tokenizer=tokenizer)\n",
    "\n",
    "print('input : %s'%train_dataset.input_ids[0])\n",
    "print('output: %s'%train_dataset.labels[0])"
   ]
  },
  {
   "cell_type": "code",
   "execution_count": 59,
   "id": "5269bdd8",
   "metadata": {},
   "outputs": [
    {
     "name": "stdout",
     "output_type": "stream",
     "text": [
      "### Instruction(명령어):\n",
      "1964년 올림픽 축구 남자부에서 우승을 거둔 참가국은?\n",
      "\n",
      "### Response(응답):헝가리</s>\n",
      "헝가리</s>\n"
     ]
    }
   ],
   "source": [
    "# train_dataset.input_ids[0]를 디코딩해보세요.\n",
    "def remove_ignore_idx(token_ids, ignore_idx = -100):\n",
    "    return [token_id for token_id in token_ids if token_id != ignore_idx]\n",
    "\n",
    "print(tokenizer.decode(remove_ignore_idx(train_dataset.input_ids[0])))\n",
    "print(tokenizer.decode(remove_ignore_idx(train_dataset.labels[0])))"
   ]
  },
  {
   "cell_type": "code",
   "execution_count": 65,
   "id": "6029dc80",
   "metadata": {},
   "outputs": [],
   "source": [
    "training_args = TrainingArguments(\n",
    "    output_dir=\"/aiffel/KoChatGPT/test\",\n",
    "    overwrite_output_dir=True,\n",
    "    num_train_epochs=1,\n",
    "    per_device_train_batch_size=4,\n",
    "    per_device_eval_batch_size=4,\n",
    "    warmup_steps=5,\n",
    "    prediction_loss_only=True,\n",
    "    gradient_accumulation_steps=8,\n",
    "    fp16 = True\n",
    "    )\n",
    "trainer = Trainer(\n",
    "    model=model,\n",
    "    args=training_args,\n",
    "    data_collator=data_collator,\n",
    "    train_dataset=train_dataset\n",
    ")"
   ]
  },
  {
   "cell_type": "code",
   "execution_count": 66,
   "id": "a66a11e8",
   "metadata": {
    "scrolled": false
   },
   "outputs": [
    {
     "data": {
      "text/html": [
       "\n",
       "    <div>\n",
       "      \n",
       "      <progress value='625' max='625' style='width:300px; height:20px; vertical-align: middle;'></progress>\n",
       "      [625/625 09:04, Epoch 1/1]\n",
       "    </div>\n",
       "    <table border=\"1\" class=\"dataframe\">\n",
       "  <thead>\n",
       " <tr style=\"text-align: left;\">\n",
       "      <th>Step</th>\n",
       "      <th>Training Loss</th>\n",
       "    </tr>\n",
       "  </thead>\n",
       "  <tbody>\n",
       "    <tr>\n",
       "      <td>500</td>\n",
       "      <td>3.797700</td>\n",
       "    </tr>\n",
       "  </tbody>\n",
       "</table><p>"
      ],
      "text/plain": [
       "<IPython.core.display.HTML object>"
      ]
     },
     "metadata": {},
     "output_type": "display_data"
    }
   ],
   "source": [
    "trainer.train()\n",
    "model.save_pretrained('/aiffel/KoChatGPT/output_1_SFT')"
   ]
  },
  {
   "cell_type": "code",
   "execution_count": 67,
   "id": "484188e3",
   "metadata": {},
   "outputs": [
    {
     "name": "stderr",
     "output_type": "stream",
     "text": [
      "/opt/conda/lib/python3.9/site-packages/transformers/generation/utils.py:1219: UserWarning: You have modified the pretrained model configuration to control generation. This is a deprecated strategy to control generation and will be removed soon, in a future version. Please use a generation configuration file (see https://huggingface.co/docs/transformers/main_classes/text_generation)\n",
      "  warnings.warn(\n"
     ]
    },
    {
     "name": "stdout",
     "output_type": "stream",
     "text": [
      "\n",
      "### Instruction(명령어):\n",
      "불고기용 고기 한우에요?\n",
      "\n",
      "### Response(응답):'저는 인공지능 어시스턴트이기 때문에 고기를 먹을 수 없습니다. 하지만 일반적으로 불고기용 쇠고기는 돼지고기와 함께 먹는 경우가 많습니다. 따라서 고기를 먹을 수 있는 음식점은 직접 방문하여 확인해보시는 것이 좋습니다.) : \"불고기용 쇠고기 한우에요?\", 'token':\n",
      "\n",
      "### Instruction(명령어):\n",
      "리처드 닉슨이 43대 부통령직을 수행한 년도는?\n",
      "\n",
      "### Response(응답):1987년)高速)苦速)貯速)告速)膏速)考速)故高速)高速]高速 (고속)誥速)高速[고속]\n",
      "\n",
      "### Instruction(명령어):\n",
      "시카고 오헤어 국제공항은 어디에 있어?\n",
      "\n",
      "### Response(응답):'시카고 오헤이어 국제공항은 미국 일리노이주 시카고에 위치해 있습니다.岳, Mountain, Michael, Soul, Taylor, Hollywood, Freeze 등이 위치하고 있습니다.岳 : 시카고에서 가장 아름다운 도시 중 하나입니다.岳 : 시카\n",
      "\n",
      "### Instruction(명령어):\n",
      "오늘 미세먼지 어때?\n",
      "\n",
      "### Response(응답):'저는 인공지능 챗봇이므로, 미세먼지 관련 정보를 알 수 없습니다. 저는 인공지능 어시스턴트이기 때문에 정확한 답변을 드리기 어렵습니다. 하지만 미세먼지 예보나 기상정보 등을 참고하시는 것을 추천드립니다.) : \"미세먼지 예보는\n"
     ]
    }
   ],
   "source": [
    "generator = pipeline('text-generation', model='/aiffel/KoChatGPT/output_1_SFT', tokenizer=tokenizer)\n",
    "\n",
    "generation_args = dict(   \n",
    "    num_beams=4,\n",
    "    repetition_penalty=2.0,\n",
    "    no_repeat_ngram_size=4,\n",
    "    eos_token_id=375, # \\n   \n",
    "    max_new_tokens=64,\n",
    "    do_sample=True,\n",
    "    top_k=50,\n",
    "    early_stopping=True\n",
    ")\n",
    "\n",
    "PROMPT_DICT = {\n",
    "    \"prompt_input\": (\n",
    "        \"### Instruction(명령어):\\n{prompt}\\n\\n### Response(응답):\"\n",
    "    )\n",
    "}\n",
    "\n",
    "list_prompt = ['불고기용 고기 한우에요?',\n",
    "               '리처드 닉슨이 43대 부통령직을 수행한 년도는?',\n",
    "               '시카고 오헤어 국제공항은 어디에 있어?',\n",
    "               '오늘 미세먼지 어때?']\n",
    "\n",
    "list_prompt = [PROMPT_DICT['prompt_input'].format_map({'prompt' : tmp}) for tmp in list_prompt]\n",
    "\n",
    "list_result = generator(list_prompt, **generation_args)   \n",
    "for prompt, result in zip(list_prompt, list_result):\n",
    "    print()\n",
    "    print((result[0]['generated_text']))"
   ]
  },
  {
   "cell_type": "markdown",
   "id": "88d078b8",
   "metadata": {},
   "source": [
    "12000개의 데이터로 학습했을 때보다 텍스트의 일관성이 있음."
   ]
  },
  {
   "cell_type": "code",
   "execution_count": null,
   "id": "ee51e542",
   "metadata": {},
   "outputs": [],
   "source": []
  }
 ],
 "metadata": {
  "kernelspec": {
   "display_name": "Python 3 (ipykernel)",
   "language": "python",
   "name": "python3"
  },
  "language_info": {
   "codemirror_mode": {
    "name": "ipython",
    "version": 3
   },
   "file_extension": ".py",
   "mimetype": "text/x-python",
   "name": "python",
   "nbconvert_exporter": "python",
   "pygments_lexer": "ipython3",
   "version": "3.9.7"
  }
 },
 "nbformat": 4,
 "nbformat_minor": 5
}
